{
 "cells": [
  {
   "cell_type": "markdown",
   "id": "93ad211d-6362-4587-84b3-385387241e54",
   "metadata": {},
   "source": [
    "Python Operators:\n",
    "-----------------\n",
    "\n",
    "1. Arithmatic Operators\n",
    "2. Arithmatic Assignment Operaotrs\n",
    "3. Comparision Operators\n",
    "4. Logical Operators\n",
    "5. in, not in\n",
    "6. is, is not\n",
    "7. Bitwise Operators "
   ]
  },
  {
   "cell_type": "markdown",
   "id": "9ccb24a0-7283-4b5b-b770-459a090ef204",
   "metadata": {},
   "source": [
    "# 1. Arithmatic Operators\n",
    "-------------------------\n",
    "(+, -, *, /, %, **, //)"
   ]
  },
  {
   "cell_type": "code",
   "execution_count": 13,
   "id": "d1c29a47-b553-4371-9437-48f9c96c0b2f",
   "metadata": {},
   "outputs": [
    {
     "name": "stdout",
     "output_type": "stream",
     "text": [
      "Addition :  9\n",
      "Subtraction :  5\n",
      "Multiplication :  14\n",
      "Division :  3.5\n",
      "Floor Division :  3\n",
      "Modulas :  1\n",
      "Exponentiation :  49\n"
     ]
    }
   ],
   "source": [
    "a = 7\n",
    "b = 2\n",
    "\n",
    "print('Addition : ', a + b)\n",
    "print('Subtraction : ', a - b)\n",
    "print('Multiplication : ', a * b)\n",
    "print('Division : ', a / b) # Return quotient\n",
    "print('Floor Division : ', a // b)\n",
    "print('Modulas : ', a % b) # Return Remainder value\n",
    "print('Exponentiation : ', a ** b) # 7 ** 2 --> 7 * 7"
   ]
  },
  {
   "cell_type": "markdown",
   "id": "428792c7-a9ca-459c-be07-77387c4eb7a0",
   "metadata": {},
   "source": [
    "# Arithmatic Assignment Operaotrs\n",
    "---------------------------------\n",
    "\n",
    "1. Assignment Operaotrs - (=)\n",
    "2. Arithmatic Assignment Operaotrs - (+=, -=, *=, /=, %=, **=, //=)"
   ]
  },
  {
   "cell_type": "code",
   "execution_count": 16,
   "id": "231fec28-8646-4d8b-a6e2-c1d459a85de8",
   "metadata": {},
   "outputs": [
    {
     "name": "stdout",
     "output_type": "stream",
     "text": [
      "10\n",
      "11\n"
     ]
    }
   ],
   "source": [
    "a = 10\n",
    "\n",
    "print(a)\n",
    "\n",
    "a += 1 # a = a + 1\n",
    "\n",
    "print(a)"
   ]
  },
  {
   "cell_type": "code",
   "execution_count": 17,
   "id": "159cfdbe-c02d-4cc5-86bf-12be012cf1dc",
   "metadata": {},
   "outputs": [
    {
     "name": "stdout",
     "output_type": "stream",
     "text": [
      "10\n",
      "9\n"
     ]
    }
   ],
   "source": [
    "a = 10\n",
    "\n",
    "print(a)\n",
    "\n",
    "a -= 1 # a = a - 1\n",
    "\n",
    "print(a)"
   ]
  },
  {
   "cell_type": "code",
   "execution_count": null,
   "id": "946cfdba-4d09-4ce1-b1c5-a957ed3d0974",
   "metadata": {},
   "outputs": [],
   "source": []
  }
 ],
 "metadata": {
  "kernelspec": {
   "display_name": "Python 3 (ipykernel)",
   "language": "python",
   "name": "python3"
  },
  "language_info": {
   "codemirror_mode": {
    "name": "ipython",
    "version": 3
   },
   "file_extension": ".py",
   "mimetype": "text/x-python",
   "name": "python",
   "nbconvert_exporter": "python",
   "pygments_lexer": "ipython3",
   "version": "3.13.2"
  }
 },
 "nbformat": 4,
 "nbformat_minor": 5
}
