{
 "cells": [
  {
   "cell_type": "code",
   "execution_count": 1,
   "id": "32d0b5f7-fdf0-4821-992f-f33f4b77ac48",
   "metadata": {},
   "outputs": [
    {
     "name": "stdout",
     "output_type": "stream",
     "text": [
      "admin123@gmail.com <class 'str'>\n"
     ]
    }
   ],
   "source": [
    "# Single Quote\n",
    "\n",
    "gmail = 'admin123@gmail.com'\n",
    "\n",
    "print(gmail, type(gmail))"
   ]
  },
  {
   "cell_type": "code",
   "execution_count": 3,
   "id": "beee6c13-7144-4b92-8270-84d70565b8f7",
   "metadata": {},
   "outputs": [
    {
     "name": "stdout",
     "output_type": "stream",
     "text": [
      "St Joseph's\n"
     ]
    }
   ],
   "source": [
    "# Douple Quote\n",
    "\n",
    "clg = \"St Joseph's\"\n",
    "\n",
    "print(clg)"
   ]
  },
  {
   "cell_type": "code",
   "execution_count": 6,
   "id": "6e88656e-6a8e-4443-9767-d2344c29d7d4",
   "metadata": {},
   "outputs": [
    {
     "name": "stdout",
     "output_type": "stream",
     "text": [
      "Rajiv Gandhi Salai (Old Mahabalipuram Road), \n",
      "Navalur, Chennai, \n",
      "Tamil Nadu with pincodes like 600130 or 603103\n",
      "\n"
     ]
    }
   ],
   "source": [
    "# Trible Quote\n",
    "\n",
    "address = '''Rajiv Gandhi Salai (Old Mahabalipuram Road), \n",
    "Navalur, Chennai, \n",
    "Tamil Nadu with pincodes like 600130 or 603103\n",
    "'''\n",
    "\n",
    "print(address)"
   ]
  },
  {
   "cell_type": "markdown",
   "id": "29a30561-201a-4ade-8aec-129f9ad2535f",
   "metadata": {},
   "source": [
    "# String Manipulation:\n",
    "----------------------"
   ]
  },
  {
   "cell_type": "code",
   "execution_count": 18,
   "id": "07a17466-6157-43eb-b15d-2e5a8e0cff60",
   "metadata": {},
   "outputs": [
    {
     "name": "stdout",
     "output_type": "stream",
     "text": [
      "admin123@gmail.com\n",
      "-------------------------------------\n",
      "@\n",
      "-------------------------------------\n",
      "admin123\n",
      "com\n",
      "admin123\n",
      "moc.liamg@321nimda\n"
     ]
    }
   ],
   "source": [
    "gmail = 'admin123@gmail.com' \n",
    "\n",
    "print(gmail)\n",
    "\n",
    "print('-------------------------------------')\n",
    "\n",
    "print(gmail[8])\n",
    "\n",
    "print('-------------------------------------')\n",
    "# var[staring Position:Ending Position + 1]\n",
    "\n",
    "print(gmail[0:8])\n",
    "\n",
    "('-------------------------------------')\n",
    "\n",
    "print(gmail[-3:])\n",
    "\n",
    "print(gmail[:8])\n",
    "\n",
    "print(gmail[::-1])"
   ]
  },
  {
   "cell_type": "code",
   "execution_count": null,
   "id": "39cac55d-61f4-4e88-8ae1-a2520f87b7e1",
   "metadata": {},
   "outputs": [],
   "source": [
    "'''\n",
    "ToDay Questions:\n",
    "----------------\n",
    "\n",
    "Q1.\n",
    "\n",
    "Output:\n",
    "-------\n",
    "\n",
    "Mobile Number : 9500912258\n",
    "Last four Digit : 2258\n",
    "First four Digit : 9500\n",
    "\n",
    "Q2.\n",
    "\n",
    "Output:\n",
    "-------\n",
    "\n",
    "Enter your gmail : selva1807@gmail.com\n",
    "\n",
    "Welcome selva1807!...\n",
    "'''"
   ]
  }
 ],
 "metadata": {
  "kernelspec": {
   "display_name": "Python 3 (ipykernel)",
   "language": "python",
   "name": "python3"
  },
  "language_info": {
   "codemirror_mode": {
    "name": "ipython",
    "version": 3
   },
   "file_extension": ".py",
   "mimetype": "text/x-python",
   "name": "python",
   "nbconvert_exporter": "python",
   "pygments_lexer": "ipython3",
   "version": "3.13.2"
  }
 },
 "nbformat": 4,
 "nbformat_minor": 5
}
