{
 "cells": [
  {
   "cell_type": "code",
   "execution_count": 1,
   "id": "32d0b5f7-fdf0-4821-992f-f33f4b77ac48",
   "metadata": {},
   "outputs": [
    {
     "name": "stdout",
     "output_type": "stream",
     "text": [
      "admin123@gmail.com <class 'str'>\n"
     ]
    }
   ],
   "source": [
    "# Single Quote\n",
    "\n",
    "gmail = 'admin123@gmail.com'\n",
    "\n",
    "print(gmail, type(gmail))"
   ]
  },
  {
   "cell_type": "code",
   "execution_count": 3,
   "id": "beee6c13-7144-4b92-8270-84d70565b8f7",
   "metadata": {},
   "outputs": [
    {
     "name": "stdout",
     "output_type": "stream",
     "text": [
      "St Joseph's\n"
     ]
    }
   ],
   "source": [
    "# Douple Quote\n",
    "\n",
    "clg = \"St Joseph's\"\n",
    "\n",
    "print(clg)"
   ]
  },
  {
   "cell_type": "code",
   "execution_count": 6,
   "id": "6e88656e-6a8e-4443-9767-d2344c29d7d4",
   "metadata": {},
   "outputs": [
    {
     "name": "stdout",
     "output_type": "stream",
     "text": [
      "Rajiv Gandhi Salai (Old Mahabalipuram Road), \n",
      "Navalur, Chennai, \n",
      "Tamil Nadu with pincodes like 600130 or 603103\n",
      "\n"
     ]
    }
   ],
   "source": [
    "# Trible Quote\n",
    "\n",
    "address = '''Rajiv Gandhi Salai (Old Mahabalipuram Road), \n",
    "Navalur, Chennai, \n",
    "Tamil Nadu with pincodes like 600130 or 603103\n",
    "'''\n",
    "\n",
    "print(address)"
   ]
  },
  {
   "cell_type": "markdown",
   "id": "29a30561-201a-4ade-8aec-129f9ad2535f",
   "metadata": {},
   "source": [
    "# String Manipulation:\n",
    "----------------------"
   ]
  },
  {
   "cell_type": "code",
   "execution_count": 18,
   "id": "07a17466-6157-43eb-b15d-2e5a8e0cff60",
   "metadata": {},
   "outputs": [
    {
     "name": "stdout",
     "output_type": "stream",
     "text": [
      "admin123@gmail.com\n",
      "-------------------------------------\n",
      "@\n",
      "-------------------------------------\n",
      "admin123\n",
      "com\n",
      "admin123\n",
      "moc.liamg@321nimda\n"
     ]
    }
   ],
   "source": [
    "gmail = 'admin123@gmail.com' \n",
    "\n",
    "print(gmail)\n",
    "\n",
    "print('-------------------------------------')\n",
    "\n",
    "print(gmail[8])\n",
    "\n",
    "print('-------------------------------------')\n",
    "# var[staring Position:Ending Position + 1]\n",
    "\n",
    "print(gmail[0:8])\n",
    "\n",
    "('-------------------------------------')\n",
    "\n",
    "print(gmail[-3:])\n",
    "\n",
    "print(gmail[:8])\n",
    "\n",
    "print(gmail[::-1])"
   ]
  },
  {
   "cell_type": "code",
   "execution_count": null,
   "id": "39cac55d-61f4-4e88-8ae1-a2520f87b7e1",
   "metadata": {},
   "outputs": [],
   "source": [
    "'''\n",
    "ToDay Questions:\n",
    "----------------\n",
    "\n",
    "Q1.\n",
    "\n",
    "Output:\n",
    "-------\n",
    "\n",
    "Mobile Number : 9500912258\n",
    "Last four Digit : 2258\n",
    "First four Digit : 9500\n",
    "\n",
    "Q2.\n",
    "\n",
    "Output:\n",
    "-------\n",
    "\n",
    "Enter your gmail : selva1807@gmail.com\n",
    "\n",
    "Welcome selva1807!...\n",
    "'''"
   ]
  },
  {
   "cell_type": "markdown",
   "id": "40757eb4-19cc-4cf8-9455-2757039d2841",
   "metadata": {},
   "source": [
    "String Function:\n",
    "----------------"
   ]
  },
  {
   "cell_type": "code",
   "execution_count": 1,
   "id": "f564b128-ab38-44cd-a03c-3b471c8f0cbd",
   "metadata": {},
   "outputs": [
    {
     "name": "stdout",
     "output_type": "stream",
     "text": [
      "wELcomE tO pyTHon <class 'str'>\n"
     ]
    }
   ],
   "source": [
    "strn = 'wELcomE tO pyTHon'\n",
    "\n",
    "print(strn, type(strn))"
   ]
  },
  {
   "cell_type": "code",
   "execution_count": 6,
   "id": "bd9a3390-95ea-4106-86d3-3a9f249e99d6",
   "metadata": {},
   "outputs": [
    {
     "name": "stdout",
     "output_type": "stream",
     "text": [
      "WELCOME TO PYTHON\n",
      "welcome to python\n",
      "Welcome to python\n",
      "Welcome To Python\n",
      "------------------------------------\n",
      "Welcome To Python\n"
     ]
    }
   ],
   "source": [
    "print(strn.upper())\n",
    "\n",
    "print(strn.lower())\n",
    "\n",
    "print(strn.capitalize())\n",
    "\n",
    "print(strn.title())\n",
    "\n",
    "print('------------------------------------')\n",
    "\n",
    "msg = strn.title()\n",
    "\n",
    "print(msg)"
   ]
  },
  {
   "cell_type": "code",
   "execution_count": 8,
   "id": "69bad6d4-7b92-4862-bc75-b2b71a3a225f",
   "metadata": {},
   "outputs": [
    {
     "name": "stdout",
     "output_type": "stream",
     "text": [
      "Welcome To Python\n",
      "------------------------------------\n",
      "3\n",
      "------------------------------------\n",
      "4\n"
     ]
    }
   ],
   "source": [
    "msg =  'Welcome To Python'\n",
    "\n",
    "print(msg)\n",
    "\n",
    "print('------------------------------------')\n",
    "\n",
    "print(msg.count('o'))\n",
    "\n",
    "print('------------------------------------')\n",
    "\n",
    "print(msg.find('o'))"
   ]
  },
  {
   "cell_type": "code",
   "execution_count": 10,
   "id": "4b2bcc47-0631-4b90-b44d-a036c3ac319a",
   "metadata": {},
   "outputs": [
    {
     "name": "stdout",
     "output_type": "stream",
     "text": [
      "Welcome To Python\n",
      "------------------------------------\n",
      "Welcome To FullStack Python\n"
     ]
    }
   ],
   "source": [
    "msg =  'Welcome To Python'\n",
    "\n",
    "print(msg)\n",
    "\n",
    "print('------------------------------------')\n",
    "\n",
    "print(msg.replace('Python', 'FullStack Python'))"
   ]
  },
  {
   "cell_type": "code",
   "execution_count": 18,
   "id": "5d9df08e-8be6-4857-a390-075f1160004f",
   "metadata": {},
   "outputs": [
    {
     "name": "stdout",
     "output_type": "stream",
     "text": [
      "Welcome To Python\n",
      "------------------------------------\n",
      "True\n",
      "False\n",
      "False\n",
      "True\n"
     ]
    }
   ],
   "source": [
    "msg =  'Welcome To Python'\n",
    "\n",
    "print(msg)\n",
    "\n",
    "print('------------------------------------')\n",
    "\n",
    "print(msg.startswith('We'))\n",
    "\n",
    "print(msg.startswith('we'))\n",
    "\n",
    "print(msg.endswith('We'))\n",
    "\n",
    "print(msg.endswith('on'))\n"
   ]
  },
  {
   "cell_type": "code",
   "execution_count": 23,
   "id": "3e942e70-20da-4fe6-b9a4-2038a09e0d77",
   "metadata": {},
   "outputs": [
    {
     "name": "stdout",
     "output_type": "stream",
     "text": [
      "JS1807\n",
      "------------------------------------\n",
      "True\n",
      "False\n",
      "False\n",
      "True\n"
     ]
    }
   ],
   "source": [
    "uname = 'JS1807'\n",
    "\n",
    "print(uname)\n",
    "\n",
    "print('------------------------------------')\n",
    "\n",
    "\n",
    "print(uname.isupper())\n",
    "\n",
    "print(uname.islower())\n",
    "\n",
    "print(uname.isalpha())\n",
    "\n",
    "print(uname.isalnum())"
   ]
  },
  {
   "cell_type": "markdown",
   "id": "e6e2bcc1-4d7c-4ccc-8a74-aa9b8b86e5c0",
   "metadata": {},
   "source": [
    "New Line: (Paragraph)\n",
    "---------------------"
   ]
  },
  {
   "cell_type": "code",
   "execution_count": 24,
   "id": "c0d0b86a-cb00-442f-97d8-fb2a7174b585",
   "metadata": {},
   "outputs": [
    {
     "name": "stdout",
     "output_type": "stream",
     "text": [
      "This assessment checklist or safety audit evaluates parameters such as 'Lighting'\n",
      "(availability of sufficient light),\n",
      "'Walkpath' (visibility in all directions), \n",
      "and 'Public Transport Availability'.\n",
      "\n"
     ]
    }
   ],
   "source": [
    "para ='''This assessment checklist or safety audit evaluates parameters such as 'Lighting'\n",
    "(availability of sufficient light),\n",
    "'Walkpath' (visibility in all directions), \n",
    "and 'Public Transport Availability'.\n",
    "'''\n",
    "\n",
    "print(para)"
   ]
  },
  {
   "cell_type": "code",
   "execution_count": 26,
   "id": "0f977145-851b-4d7b-bc0c-8774f93edff4",
   "metadata": {},
   "outputs": [
    {
     "name": "stdout",
     "output_type": "stream",
     "text": [
      " This assessment checklist or safety audit evaluates parameters such as 'Lighting' \n",
      " (availability of sufficient light), \n",
      " 'Walkpath' (visibility in all directions), \n",
      " and 'Public Transport Availability'.\n"
     ]
    }
   ],
   "source": [
    "para =\" This assessment checklist or safety audit evaluates parameters such as 'Lighting' \\n (availability of sufficient light), \\n 'Walkpath' (visibility in all directions), \\n and 'Public Transport Availability'.\"\n",
    "\n",
    "print(para)"
   ]
  },
  {
   "cell_type": "markdown",
   "id": "3dc9865e-ba6e-4647-a5df-72f653ecfbae",
   "metadata": {},
   "source": [
    "Split Lines:\n",
    "------------"
   ]
  },
  {
   "cell_type": "code",
   "execution_count": 29,
   "id": "efcb4fc9-e1c2-4803-ad0f-070899675c65",
   "metadata": {},
   "outputs": [
    {
     "name": "stdout",
     "output_type": "stream",
     "text": [
      "This assessment checklist or safety audit evaluates parameters such as 'Lighting'\n",
      "(availability of sufficient light),\n",
      "'Walkpath' (visibility in all directions), \n",
      "and 'Public Transport Availability'.\n",
      "\n",
      "----------------------------------------------------\n",
      "[\"This assessment checklist or safety audit evaluates parameters such as 'Lighting'\", '(availability of sufficient light),', \"'Walkpath' (visibility in all directions), \", \"and 'Public Transport Availability'.\"] <class 'list'>\n",
      "----------------------------------------------------\n",
      "'Walkpath' (visibility in all directions), \n"
     ]
    }
   ],
   "source": [
    "para ='''This assessment checklist or safety audit evaluates parameters such as 'Lighting'\n",
    "(availability of sufficient light),\n",
    "'Walkpath' (visibility in all directions), \n",
    "and 'Public Transport Availability'.\n",
    "'''\n",
    "\n",
    "print(para)\n",
    "\n",
    "print('----------------------------------------------------')\n",
    "\n",
    "splitPara = para.splitlines()\n",
    "\n",
    "print(splitPara, type(splitPara))\n",
    "\n",
    "print('----------------------------------------------------')\n",
    "\n",
    "print(splitPara[2])"
   ]
  },
  {
   "cell_type": "markdown",
   "id": "1468c1fc-9dad-420d-a632-a7e678aba0ae",
   "metadata": {},
   "source": [
    "Split:\n",
    "------"
   ]
  },
  {
   "cell_type": "code",
   "execution_count": 30,
   "id": "3731f6aa-4b31-4dac-9c20-4f46d6451f6a",
   "metadata": {},
   "outputs": [
    {
     "name": "stdout",
     "output_type": "stream",
     "text": [
      "sara, neena, ram, sam, lara\n",
      "----------------------------------------------------\n",
      "['sara', ' neena', ' ram', ' sam', ' lara']\n"
     ]
    }
   ],
   "source": [
    "names = 'sara, neena, ram, sam, lara'\n",
    "\n",
    "print(names)\n",
    "\n",
    "print('----------------------------------------------------')\n",
    "\n",
    "print(names.split(','))"
   ]
  },
  {
   "cell_type": "markdown",
   "id": "43a3d455-95ef-4cf1-b8fd-14eba507bea6",
   "metadata": {},
   "source": [
    "TotDay Task:\n",
    "------------"
   ]
  },
  {
   "cell_type": "code",
   "execution_count": 34,
   "id": "5059445f-f9c1-4e4b-bfa5-160b6d258474",
   "metadata": {},
   "outputs": [
    {
     "name": "stdout",
     "output_type": "stream",
     "text": [
      "4\n",
      "Gmail :  sara@gmail.com\n",
      "User Name :  sara\n"
     ]
    }
   ],
   "source": [
    "gmail = 'sara@gmail.com'\n",
    "\n",
    "print(gmail.find('@'))\n",
    "\n",
    "userName = gmail[0:gmail.find('@')]\n",
    "\n",
    "print('Gmail : ', gmail)\n",
    "\n",
    "print('User Name : ', userName)"
   ]
  },
  {
   "cell_type": "code",
   "execution_count": null,
   "id": "fc0d140a-204d-459e-9b42-fc5c2a00366f",
   "metadata": {},
   "outputs": [],
   "source": []
  }
 ],
 "metadata": {
  "kernelspec": {
   "display_name": "Python 3 (ipykernel)",
   "language": "python",
   "name": "python3"
  },
  "language_info": {
   "codemirror_mode": {
    "name": "ipython",
    "version": 3
   },
   "file_extension": ".py",
   "mimetype": "text/x-python",
   "name": "python",
   "nbconvert_exporter": "python",
   "pygments_lexer": "ipython3",
   "version": "3.13.2"
  }
 },
 "nbformat": 4,
 "nbformat_minor": 5
}
