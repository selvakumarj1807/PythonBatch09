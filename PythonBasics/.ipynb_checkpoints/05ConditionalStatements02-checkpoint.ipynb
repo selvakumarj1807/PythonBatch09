{
 "cells": [
  {
   "cell_type": "markdown",
   "id": "1911bec8-d432-4b30-93ec-1f826c6f681e",
   "metadata": {},
   "source": [
    "while Loop:\n",
    "-----------\n",
    "\n",
    "1. Value Initialization\n",
    "2. Conditiona Checking\n",
    "3. Value Increment\n"
   ]
  },
  {
   "cell_type": "code",
   "execution_count": 1,
   "id": "9c52d279-af06-41af-b9b4-beb4349f31f6",
   "metadata": {},
   "outputs": [
    {
     "name": "stdout",
     "output_type": "stream",
     "text": [
      "0\n",
      "1\n",
      "2\n",
      "3\n",
      "4\n",
      "5\n",
      "6\n",
      "7\n",
      "8\n",
      "9\n",
      "10\n"
     ]
    }
   ],
   "source": [
    "i = 0 # Value Initialization\n",
    "\n",
    "while i <= 10: #Conditiona Checking\n",
    "    print(i)\n",
    "\n",
    "    i = i + 1 # Value Increment"
   ]
  },
  {
   "cell_type": "markdown",
   "id": "fe764119-5005-4bb1-90a7-30107116d7d5",
   "metadata": {},
   "source": [
    "# print Even Numbers:\n",
    "---------------------"
   ]
  },
  {
   "cell_type": "code",
   "execution_count": 4,
   "id": "6aeeb76d-35c2-4855-9342-2be838c177cd",
   "metadata": {},
   "outputs": [
    {
     "name": "stdout",
     "output_type": "stream",
     "text": [
      "0\n",
      "2\n",
      "4\n",
      "6\n",
      "8\n",
      "10\n"
     ]
    }
   ],
   "source": [
    "i = 0\n",
    "\n",
    "while i <= 10: \n",
    "    print(i)\n",
    "\n",
    "    i = i + 2 "
   ]
  },
  {
   "cell_type": "markdown",
   "id": "59343033-fcd8-472a-944d-336e6952eaa5",
   "metadata": {},
   "source": [
    "# Odd Number:\n",
    "-------------"
   ]
  },
  {
   "cell_type": "code",
   "execution_count": 8,
   "id": "9c590892-2b9a-4abe-a6b4-4e24232e7801",
   "metadata": {},
   "outputs": [
    {
     "name": "stdout",
     "output_type": "stream",
     "text": [
      "1\n",
      "3\n",
      "5\n",
      "7\n",
      "9\n"
     ]
    }
   ],
   "source": [
    "i = 1\n",
    "\n",
    "while i <= 10: \n",
    "    print(i)\n",
    "\n",
    "    i = i + 2 "
   ]
  },
  {
   "cell_type": "markdown",
   "id": "11e0983c-fc43-430d-b435-c549657dfdcb",
   "metadata": {},
   "source": [
    "Break:\n",
    "------"
   ]
  },
  {
   "cell_type": "code",
   "execution_count": 13,
   "id": "8915840b-10b0-43b9-b51a-ccad5e6d5490",
   "metadata": {},
   "outputs": [
    {
     "name": "stdout",
     "output_type": "stream",
     "text": [
      "0\n",
      "1\n",
      "2\n",
      "3\n",
      "4\n",
      "5\n",
      "Before Break\n"
     ]
    }
   ],
   "source": [
    "i = 0\n",
    "\n",
    "while i <= 10: \n",
    "    print(i)\n",
    "\n",
    "    if i == 5:\n",
    "        print('Before Break')\n",
    "        i = i + 1\n",
    "        \n",
    "        break\n",
    "        \n",
    "        print('After Break')\n",
    "\n",
    "    i = i + 1 "
   ]
  },
  {
   "cell_type": "markdown",
   "id": "16fbf3e9-807e-4918-9129-24a591048484",
   "metadata": {},
   "source": [
    "Continue:\n",
    "---------"
   ]
  },
  {
   "cell_type": "code",
   "execution_count": 14,
   "id": "5973231a-f93d-4c34-b80c-04206e7af644",
   "metadata": {},
   "outputs": [
    {
     "name": "stdout",
     "output_type": "stream",
     "text": [
      "0\n",
      "1\n",
      "2\n",
      "3\n",
      "4\n",
      "5\n",
      "Before Break\n",
      "6\n",
      "7\n",
      "8\n",
      "9\n",
      "10\n"
     ]
    }
   ],
   "source": [
    "i = 0\n",
    "\n",
    "while i <= 10: \n",
    "    print(i)\n",
    "\n",
    "    if i == 5:\n",
    "        print('Before Break')\n",
    "        i = i + 1\n",
    "        \n",
    "        continue\n",
    "        \n",
    "        print('After Break')\n",
    "\n",
    "    i = i + 1 "
   ]
  },
  {
   "cell_type": "markdown",
   "id": "c8d9cd2a-5e73-44b3-a043-784cd89ce88f",
   "metadata": {},
   "source": [
    "Pass:\n",
    "-----"
   ]
  },
  {
   "cell_type": "code",
   "execution_count": 15,
   "id": "24a9707d-3835-4b47-83ff-a24960d8bf8d",
   "metadata": {},
   "outputs": [
    {
     "name": "stdout",
     "output_type": "stream",
     "text": [
      "0\n",
      "1\n",
      "2\n",
      "3\n",
      "4\n",
      "5\n",
      "Before Break\n",
      "After Break\n",
      "7\n",
      "8\n",
      "9\n",
      "10\n"
     ]
    }
   ],
   "source": [
    "i = 0\n",
    "\n",
    "while i <= 10: \n",
    "    print(i)\n",
    "\n",
    "    if i == 5:\n",
    "        print('Before Break')\n",
    "        i = i + 1\n",
    "        \n",
    "        pass\n",
    "        \n",
    "        print('After Break')\n",
    "\n",
    "    i = i + 1 "
   ]
  },
  {
   "cell_type": "markdown",
   "id": "70e7b50e-083f-44bb-8296-cc2f4eb942ff",
   "metadata": {},
   "source": [
    "For Loop:\n",
    "---------"
   ]
  },
  {
   "cell_type": "code",
   "execution_count": 16,
   "id": "351b5583-d5b6-4934-89f2-04dce1b7948f",
   "metadata": {},
   "outputs": [
    {
     "name": "stdout",
     "output_type": "stream",
     "text": [
      "0\n",
      "1\n",
      "2\n",
      "3\n",
      "4\n",
      "5\n",
      "6\n",
      "7\n",
      "8\n",
      "9\n",
      "10\n"
     ]
    }
   ],
   "source": [
    "i = 0 # Value Initialization\n",
    "\n",
    "while i <= 10: #Conditiona Checking\n",
    "    print(i)\n",
    "\n",
    "    i = i + 1 # Value Increment"
   ]
  },
  {
   "cell_type": "code",
   "execution_count": 18,
   "id": "fb851a3e-2a32-4e30-8c58-f39a635f7d47",
   "metadata": {},
   "outputs": [
    {
     "name": "stdout",
     "output_type": "stream",
     "text": [
      "0\n",
      "1\n",
      "2\n",
      "3\n",
      "4\n",
      "5\n",
      "6\n",
      "7\n",
      "8\n",
      "9\n"
     ]
    }
   ],
   "source": [
    "# Default Value Intialization = 0\n",
    "# Dafault Value Increment = 1\n",
    "\n",
    "for i in range(10):\n",
    "    print(i)"
   ]
  },
  {
   "cell_type": "code",
   "execution_count": 1,
   "id": "4e0e40c6-fccb-41ce-8f2b-7c2111f13f44",
   "metadata": {},
   "outputs": [
    {
     "name": "stdout",
     "output_type": "stream",
     "text": [
      "1\n",
      "3\n",
      "5\n",
      "7\n",
      "9\n"
     ]
    }
   ],
   "source": [
    "for i in range(1, 10, 2):\n",
    "    print(i)"
   ]
  },
  {
   "cell_type": "code",
   "execution_count": 5,
   "id": "5eefb8de-5ba4-4e3b-af5f-4850d5b2220f",
   "metadata": {},
   "outputs": [
    {
     "name": "stdout",
     "output_type": "stream",
     "text": [
      "1, 3, 5, 7, 9, "
     ]
    }
   ],
   "source": [
    "for i in range(1, 10, 2):\n",
    "    print(i, end=', ')"
   ]
  },
  {
   "cell_type": "markdown",
   "id": "17efdf65-2d59-4810-9793-d2f80c6699a2",
   "metadata": {},
   "source": [
    "Today Work:\n",
    "-----------\n",
    "\n",
    "'''\n",
    "How to write the python code for below sample output\n",
    "\n",
    "Enter a Limit Value : 10\n",
    "\n",
    "Odd Numbers:\n",
    "1, 3, 5, 7, 9\n",
    "\n",
    "Even Numbers:\n",
    "0, 2, 4, 6, 8, 10\n",
    "'''"
   ]
  }
 ],
 "metadata": {
  "kernelspec": {
   "display_name": "Python 3 (ipykernel)",
   "language": "python",
   "name": "python3"
  },
  "language_info": {
   "codemirror_mode": {
    "name": "ipython",
    "version": 3
   },
   "file_extension": ".py",
   "mimetype": "text/x-python",
   "name": "python",
   "nbconvert_exporter": "python",
   "pygments_lexer": "ipython3",
   "version": "3.13.2"
  }
 },
 "nbformat": 4,
 "nbformat_minor": 5
}
