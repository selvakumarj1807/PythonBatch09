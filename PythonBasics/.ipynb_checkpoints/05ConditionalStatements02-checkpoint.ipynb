{
 "cells": [
  {
   "cell_type": "markdown",
   "id": "1911bec8-d432-4b30-93ec-1f826c6f681e",
   "metadata": {},
   "source": [
    "while Loop:\n",
    "-----------\n",
    "\n",
    "1. Value Initialization\n",
    "2. Conditiona Checking\n",
    "3. Value Increment\n"
   ]
  },
  {
   "cell_type": "code",
   "execution_count": 1,
   "id": "9c52d279-af06-41af-b9b4-beb4349f31f6",
   "metadata": {},
   "outputs": [
    {
     "name": "stdout",
     "output_type": "stream",
     "text": [
      "0\n",
      "1\n",
      "2\n",
      "3\n",
      "4\n",
      "5\n",
      "6\n",
      "7\n",
      "8\n",
      "9\n",
      "10\n"
     ]
    }
   ],
   "source": [
    "i = 0 # Value Initialization\n",
    "\n",
    "while i <= 10: #Conditiona Checking\n",
    "    print(i)\n",
    "\n",
    "    i = i + 1 # Value Increment"
   ]
  },
  {
   "cell_type": "markdown",
   "id": "fe764119-5005-4bb1-90a7-30107116d7d5",
   "metadata": {},
   "source": [
    "# print Even Numbers:\n",
    "---------------------"
   ]
  },
  {
   "cell_type": "code",
   "execution_count": 4,
   "id": "6aeeb76d-35c2-4855-9342-2be838c177cd",
   "metadata": {},
   "outputs": [
    {
     "name": "stdout",
     "output_type": "stream",
     "text": [
      "0\n",
      "2\n",
      "4\n",
      "6\n",
      "8\n",
      "10\n"
     ]
    }
   ],
   "source": [
    "i = 0\n",
    "\n",
    "while i <= 10: \n",
    "    print(i)\n",
    "\n",
    "    i = i + 2 "
   ]
  },
  {
   "cell_type": "markdown",
   "id": "59343033-fcd8-472a-944d-336e6952eaa5",
   "metadata": {},
   "source": [
    "# Odd Number:\n",
    "-------------"
   ]
  },
  {
   "cell_type": "code",
   "execution_count": 8,
   "id": "9c590892-2b9a-4abe-a6b4-4e24232e7801",
   "metadata": {},
   "outputs": [
    {
     "name": "stdout",
     "output_type": "stream",
     "text": [
      "1\n",
      "3\n",
      "5\n",
      "7\n",
      "9\n"
     ]
    }
   ],
   "source": [
    "i = 1\n",
    "\n",
    "while i <= 10: \n",
    "    print(i)\n",
    "\n",
    "    i = i + 2 "
   ]
  },
  {
   "cell_type": "markdown",
   "id": "11e0983c-fc43-430d-b435-c549657dfdcb",
   "metadata": {},
   "source": [
    "Break:\n",
    "------"
   ]
  },
  {
   "cell_type": "code",
   "execution_count": 13,
   "id": "8915840b-10b0-43b9-b51a-ccad5e6d5490",
   "metadata": {},
   "outputs": [
    {
     "name": "stdout",
     "output_type": "stream",
     "text": [
      "0\n",
      "1\n",
      "2\n",
      "3\n",
      "4\n",
      "5\n",
      "Before Break\n"
     ]
    }
   ],
   "source": [
    "i = 0\n",
    "\n",
    "while i <= 10: \n",
    "    print(i)\n",
    "\n",
    "    if i == 5:\n",
    "        print('Before Break')\n",
    "        i = i + 1\n",
    "        \n",
    "        break\n",
    "        \n",
    "        print('After Break')\n",
    "\n",
    "    i = i + 1 "
   ]
  },
  {
   "cell_type": "markdown",
   "id": "16fbf3e9-807e-4918-9129-24a591048484",
   "metadata": {},
   "source": [
    "Continue:\n",
    "---------"
   ]
  },
  {
   "cell_type": "code",
   "execution_count": 14,
   "id": "5973231a-f93d-4c34-b80c-04206e7af644",
   "metadata": {},
   "outputs": [
    {
     "name": "stdout",
     "output_type": "stream",
     "text": [
      "0\n",
      "1\n",
      "2\n",
      "3\n",
      "4\n",
      "5\n",
      "Before Break\n",
      "6\n",
      "7\n",
      "8\n",
      "9\n",
      "10\n"
     ]
    }
   ],
   "source": [
    "i = 0\n",
    "\n",
    "while i <= 10: \n",
    "    print(i)\n",
    "\n",
    "    if i == 5:\n",
    "        print('Before Break')\n",
    "        i = i + 1\n",
    "        \n",
    "        continue\n",
    "        \n",
    "        print('After Break')\n",
    "\n",
    "    i = i + 1 "
   ]
  },
  {
   "cell_type": "markdown",
   "id": "c8d9cd2a-5e73-44b3-a043-784cd89ce88f",
   "metadata": {},
   "source": [
    "Pass:\n",
    "-----"
   ]
  },
  {
   "cell_type": "code",
   "execution_count": 15,
   "id": "24a9707d-3835-4b47-83ff-a24960d8bf8d",
   "metadata": {},
   "outputs": [
    {
     "name": "stdout",
     "output_type": "stream",
     "text": [
      "0\n",
      "1\n",
      "2\n",
      "3\n",
      "4\n",
      "5\n",
      "Before Break\n",
      "After Break\n",
      "7\n",
      "8\n",
      "9\n",
      "10\n"
     ]
    }
   ],
   "source": [
    "i = 0\n",
    "\n",
    "while i <= 10: \n",
    "    print(i)\n",
    "\n",
    "    if i == 5:\n",
    "        print('Before Break')\n",
    "        i = i + 1\n",
    "        \n",
    "        pass\n",
    "        \n",
    "        print('After Break')\n",
    "\n",
    "    i = i + 1 "
   ]
  },
  {
   "cell_type": "markdown",
   "id": "70e7b50e-083f-44bb-8296-cc2f4eb942ff",
   "metadata": {},
   "source": [
    "For Loop:\n",
    "---------"
   ]
  },
  {
   "cell_type": "code",
   "execution_count": 16,
   "id": "351b5583-d5b6-4934-89f2-04dce1b7948f",
   "metadata": {},
   "outputs": [
    {
     "name": "stdout",
     "output_type": "stream",
     "text": [
      "0\n",
      "1\n",
      "2\n",
      "3\n",
      "4\n",
      "5\n",
      "6\n",
      "7\n",
      "8\n",
      "9\n",
      "10\n"
     ]
    }
   ],
   "source": [
    "i = 0 # Value Initialization\n",
    "\n",
    "while i <= 10: #Conditiona Checking\n",
    "    print(i)\n",
    "\n",
    "    i = i + 1 # Value Increment"
   ]
  },
  {
   "cell_type": "code",
   "execution_count": 18,
   "id": "fb851a3e-2a32-4e30-8c58-f39a635f7d47",
   "metadata": {},
   "outputs": [
    {
     "name": "stdout",
     "output_type": "stream",
     "text": [
      "0\n",
      "1\n",
      "2\n",
      "3\n",
      "4\n",
      "5\n",
      "6\n",
      "7\n",
      "8\n",
      "9\n"
     ]
    }
   ],
   "source": [
    "# Default Value Intialization = 0\n",
    "# Dafault Value Increment = 1\n",
    "\n",
    "for i in range(10):\n",
    "    print(i)"
   ]
  },
  {
   "cell_type": "code",
   "execution_count": 1,
   "id": "4e0e40c6-fccb-41ce-8f2b-7c2111f13f44",
   "metadata": {},
   "outputs": [
    {
     "name": "stdout",
     "output_type": "stream",
     "text": [
      "1\n",
      "3\n",
      "5\n",
      "7\n",
      "9\n"
     ]
    }
   ],
   "source": [
    "for i in range(1, 10, 2):\n",
    "    print(i)"
   ]
  },
  {
   "cell_type": "code",
   "execution_count": 5,
   "id": "5eefb8de-5ba4-4e3b-af5f-4850d5b2220f",
   "metadata": {},
   "outputs": [
    {
     "name": "stdout",
     "output_type": "stream",
     "text": [
      "1, 3, 5, 7, 9, "
     ]
    }
   ],
   "source": [
    "for i in range(1, 10, 2):\n",
    "    print(i, end=', ')"
   ]
  },
  {
   "cell_type": "markdown",
   "id": "17efdf65-2d59-4810-9793-d2f80c6699a2",
   "metadata": {},
   "source": [
    "Today Work:\n",
    "-----------\n",
    "\n",
    "'''\n",
    "How to write the python code for below sample output\n",
    "\n",
    "Enter a Limit Value : 10\n",
    "\n",
    "Odd Numbers:\n",
    "1, 3, 5, 7, 9\n",
    "\n",
    "Even Numbers:\n",
    "0, 2, 4, 6, 8, 10\n",
    "'''"
   ]
  },
  {
   "cell_type": "markdown",
   "id": "cfac3ff3-51a0-4cdf-a883-d597a2749ff2",
   "metadata": {},
   "source": [
    "For Loop Example:\n",
    "-----------------"
   ]
  },
  {
   "cell_type": "code",
   "execution_count": 4,
   "id": "ba0be4fd-7794-4750-a63b-5cea54b53314",
   "metadata": {},
   "outputs": [
    {
     "name": "stdin",
     "output_type": "stream",
     "text": [
      "Enter your name :  s1\n",
      "Enter Your age :  21\n"
     ]
    },
    {
     "name": "stdout",
     "output_type": "stream",
     "text": [
      "s1  your age is  21\n",
      "--------------------------------------------------------\n"
     ]
    },
    {
     "name": "stdin",
     "output_type": "stream",
     "text": [
      "Enter your name :  s2\n",
      "Enter Your age :  22\n"
     ]
    },
    {
     "name": "stdout",
     "output_type": "stream",
     "text": [
      "s2  your age is  22\n",
      "--------------------------------------------------------\n"
     ]
    }
   ],
   "source": [
    "n = 2\n",
    "\n",
    "for i in range(n):\n",
    "    name = input('Enter your name : ')\n",
    "    age = int(input('Enter Your age : '))\n",
    "\n",
    "    print(name, ' your age is ', age)\n",
    "    print('--------------------------------------------------------')"
   ]
  },
  {
   "cell_type": "markdown",
   "id": "2e452d26-7617-4125-9396-05aa2e39433e",
   "metadata": {},
   "source": [
    "Nested Loop (Loop Pattern): \n",
    "---------------------------"
   ]
  },
  {
   "cell_type": "code",
   "execution_count": 10,
   "id": "008aa50c-9495-4e71-8b25-c9ac61764c13",
   "metadata": {
    "scrolled": true
   },
   "outputs": [
    {
     "name": "stdout",
     "output_type": "stream",
     "text": [
      "1 \n",
      "2 2 \n",
      "3 3 3 \n",
      "4 4 4 4 \n",
      "5 5 5 5 5 \n"
     ]
    }
   ],
   "source": [
    "'''\n",
    "step 01:\n",
    "\n",
    "i = 1 OuterLoop\n",
    "j = 0 Inner Loop\n",
    "\\n\n",
    "j = 1 = i = 1 False\n",
    "\n",
    "step 02:\n",
    "\n",
    "i = 2\n",
    "j = 0\n",
    "\n",
    "j = 1 = i = 2\n",
    "\\n\n",
    "j = 2 = i = 2 False\n",
    "\n",
    "step 03:\n",
    "\n",
    "i = 3\n",
    "j = 0\n",
    "\n",
    "j = 1 = i = 3\n",
    "\n",
    "j = 2 = i = 3\n",
    "\n",
    "j = 3 = i = 3 False\n",
    "\n",
    "'''\n",
    "\n",
    "\n",
    "for i in range(1, 6):\n",
    "    for j in range(i):\n",
    "        print(i, end=' ')\n",
    "        \n",
    "    print('')"
   ]
  },
  {
   "cell_type": "code",
   "execution_count": 13,
   "id": "0bdfbbc8-bea6-41ff-b228-0b3f0279ed9f",
   "metadata": {},
   "outputs": [
    {
     "name": "stdout",
     "output_type": "stream",
     "text": [
      "1 \n",
      "1 2 \n",
      "1 2 3 \n",
      "1 2 3 4 \n",
      "1 2 3 4 5 \n"
     ]
    }
   ],
   "source": [
    "for i in range(1, 6):\n",
    "    for j in range(1, i+1):\n",
    "        print(j, end=' ')\n",
    "        \n",
    "    print('')"
   ]
  },
  {
   "cell_type": "code",
   "execution_count": 17,
   "id": "ad164345-07e1-4be6-8006-111cab111b6d",
   "metadata": {},
   "outputs": [
    {
     "name": "stdout",
     "output_type": "stream",
     "text": [
      "55555\n",
      "4444\n",
      "333\n",
      "22\n",
      "1\n"
     ]
    }
   ],
   "source": [
    "for i in range(5, 0, -1):\n",
    "    for j in range(i):\n",
    "        print(i, end='')\n",
    "\n",
    "    print('')"
   ]
  },
  {
   "cell_type": "code",
   "execution_count": 20,
   "id": "a2092f4a-f399-4ed8-8b39-b04c81bbe4fd",
   "metadata": {},
   "outputs": [
    {
     "name": "stdout",
     "output_type": "stream",
     "text": [
      "12345\n",
      "1234\n",
      "123\n",
      "12\n",
      "1\n"
     ]
    }
   ],
   "source": [
    "for i in range(5, 0, -1):\n",
    "    for j in range(1, i+1):\n",
    "        print(j, end='')\n",
    "\n",
    "    print('')"
   ]
  },
  {
   "cell_type": "code",
   "execution_count": 23,
   "id": "60876714-548a-41c0-b55a-9515df3d8b21",
   "metadata": {},
   "outputs": [
    {
     "name": "stdout",
     "output_type": "stream",
     "text": [
      "65 A\n",
      "B 66\n"
     ]
    }
   ],
   "source": [
    "print(65, chr(65))\n",
    "\n",
    "print('B', ord('B'))"
   ]
  },
  {
   "cell_type": "code",
   "execution_count": null,
   "id": "56c06c2d-8298-4eb0-8750-16474a5bcb7e",
   "metadata": {},
   "outputs": [],
   "source": [
    "A\n",
    "AB\n",
    "ABC\n",
    "ABCD\n",
    "ABCDE\n",
    "\n",
    "\n",
    "54321\n",
    "5432\n",
    "543\n",
    "54\n",
    "5\n",
    "\n",
    "12345\n",
    "1234\n",
    "123\n",
    "12\n",
    "1\n",
    "\n"
   ]
  },
  {
   "cell_type": "code",
   "execution_count": null,
   "id": "a0d529f2-6f0b-4ec0-bda1-d1d52b90143a",
   "metadata": {},
   "outputs": [],
   "source": [
    "65,  67,  69, 71\n",
    "\n",
    "A, C, E, ?"
   ]
  }
 ],
 "metadata": {
  "kernelspec": {
   "display_name": "Python 3 (ipykernel)",
   "language": "python",
   "name": "python3"
  },
  "language_info": {
   "codemirror_mode": {
    "name": "ipython",
    "version": 3
   },
   "file_extension": ".py",
   "mimetype": "text/x-python",
   "name": "python",
   "nbconvert_exporter": "python",
   "pygments_lexer": "ipython3",
   "version": "3.13.2"
  }
 },
 "nbformat": 4,
 "nbformat_minor": 5
}
