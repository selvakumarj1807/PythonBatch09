{
 "cells": [
  {
   "cell_type": "markdown",
   "id": "008f9e9d-6c96-42c9-b31c-f2a8347c0acf",
   "metadata": {},
   "source": [
    "Python Function:\n",
    "----------------\n",
    "    Function is a block of code. which only runs when its called."
   ]
  },
  {
   "cell_type": "markdown",
   "id": "e620c000-9133-45ef-ba96-435aa2262296",
   "metadata": {},
   "source": [
    "# 01. No Return type With Out Argument\n",
    "--------------------------------------"
   ]
  },
  {
   "cell_type": "code",
   "execution_count": 5,
   "id": "7472f397-a5ba-42ed-a176-03b0c36951d5",
   "metadata": {},
   "outputs": [],
   "source": [
    "# Create the function\n",
    "\n",
    "def welcome():\n",
    "    print('Welcome Python Functions')"
   ]
  },
  {
   "cell_type": "code",
   "execution_count": 6,
   "id": "ae39efa0-da4b-4d74-9556-f8c0ba181643",
   "metadata": {},
   "outputs": [
    {
     "name": "stdout",
     "output_type": "stream",
     "text": [
      "Welcome Python Functions\n",
      "Welcome Python Functions\n",
      "Welcome Python Functions\n"
     ]
    }
   ],
   "source": [
    "# Call the Function\n",
    "\n",
    "welcome()\n",
    "\n",
    "welcome()\n",
    "\n",
    "welcome()"
   ]
  },
  {
   "cell_type": "code",
   "execution_count": 7,
   "id": "be0c04cf-b5bf-46cf-ace6-179e037d3019",
   "metadata": {},
   "outputs": [],
   "source": [
    "def add():\n",
    "    a = int(input('Enter value 01 : '))\n",
    "\n",
    "    b = int(input('Enter value 02 : '))\n",
    "\n",
    "    print(a, ' + ', b, ' = ', a + b)"
   ]
  },
  {
   "cell_type": "code",
   "execution_count": 8,
   "id": "80f08544-4f17-4e90-858c-2b5371b787b9",
   "metadata": {},
   "outputs": [
    {
     "name": "stdin",
     "output_type": "stream",
     "text": [
      "Enter value 01 :  10\n",
      "Enter value 02 :  11\n"
     ]
    },
    {
     "name": "stdout",
     "output_type": "stream",
     "text": [
      "10  +  11  =  21\n",
      "--------------------------------------------\n"
     ]
    },
    {
     "name": "stdin",
     "output_type": "stream",
     "text": [
      "Enter value 01 :  22\n",
      "Enter value 02 :  22\n"
     ]
    },
    {
     "name": "stdout",
     "output_type": "stream",
     "text": [
      "22  +  22  =  44\n"
     ]
    }
   ],
   "source": [
    "add()\n",
    "\n",
    "print('--------------------------------------------')\n",
    "\n",
    "add()"
   ]
  },
  {
   "cell_type": "markdown",
   "id": "37124349-8a31-4fa0-9826-a2c623462b32",
   "metadata": {},
   "source": [
    "# 02. No Return Type With Argument:\n",
    "-----------------------------------"
   ]
  },
  {
   "cell_type": "code",
   "execution_count": 9,
   "id": "6fd7d7d0-1516-4898-8952-59af09102857",
   "metadata": {},
   "outputs": [],
   "source": [
    "# Create the Function\n",
    "\n",
    "def add(a, b):\n",
    "    print(a, ' + ', b, ' = ', a + b)"
   ]
  },
  {
   "cell_type": "code",
   "execution_count": 10,
   "id": "2e81e4d7-2c82-44e5-86a6-fb6aaa023fe5",
   "metadata": {},
   "outputs": [
    {
     "name": "stdout",
     "output_type": "stream",
     "text": [
      "10  +  20  =  30\n",
      "----------------------------------------------------------\n",
      "11  +  22  =  33\n"
     ]
    }
   ],
   "source": [
    "# call the cunction\n",
    "\n",
    "add(10, 20)\n",
    "\n",
    "print('----------------------------------------------------------')\n",
    "\n",
    "add(11, 22)"
   ]
  },
  {
   "cell_type": "markdown",
   "id": "f1ac2971-9a26-4921-93c9-096111056b55",
   "metadata": {},
   "source": [
    "# 03. Return Type With out Argument:\n",
    "------------------------------------"
   ]
  },
  {
   "cell_type": "code",
   "execution_count": 12,
   "id": "1991eb7e-ed1a-4568-b85a-f3f6fae57121",
   "metadata": {},
   "outputs": [],
   "source": [
    "# Create the Function\n",
    "\n",
    "def add():\n",
    "    a = int(input('Enter value 01 : '))\n",
    "\n",
    "    b = int(input('Enter value 02 : '))\n",
    "\n",
    "    c = a + b\n",
    "\n",
    "    return c"
   ]
  },
  {
   "cell_type": "code",
   "execution_count": 13,
   "id": "e973f09b-5872-4694-a938-e452310c982e",
   "metadata": {},
   "outputs": [
    {
     "name": "stdin",
     "output_type": "stream",
     "text": [
      "Enter value 01 :  21\n",
      "Enter value 02 :  22\n"
     ]
    },
    {
     "name": "stdout",
     "output_type": "stream",
     "text": [
      "43\n",
      "-------------------------------------------------------\n"
     ]
    },
    {
     "name": "stdin",
     "output_type": "stream",
     "text": [
      "Enter value 01 :  11\n",
      "Enter value 02 :  21\n"
     ]
    },
    {
     "name": "stdout",
     "output_type": "stream",
     "text": [
      "32\n"
     ]
    }
   ],
   "source": [
    "# Call the Function\n",
    "\n",
    "print(add())\n",
    "\n",
    "print('-------------------------------------------------------')\n",
    "\n",
    "ans = add()\n",
    "\n",
    "print(ans)"
   ]
  },
  {
   "cell_type": "markdown",
   "id": "80fc96ae-cd93-482e-b2c0-2b33cf3e87ee",
   "metadata": {},
   "source": [
    "# 04. Return Type With Argument:\n",
    "--------------------------------"
   ]
  },
  {
   "cell_type": "code",
   "execution_count": 15,
   "id": "be039ff6-de55-4d96-b359-2c97aaef7ec2",
   "metadata": {},
   "outputs": [],
   "source": [
    "# Create the Function\n",
    "\n",
    "def add(a, b):\n",
    "    c = a + b\n",
    "    \n",
    "    return c"
   ]
  },
  {
   "cell_type": "code",
   "execution_count": 16,
   "id": "b6d663aa-c435-4bfb-a1e2-f9492ff6be23",
   "metadata": {},
   "outputs": [
    {
     "name": "stdout",
     "output_type": "stream",
     "text": [
      "30\n",
      "-------------------------------------------------------\n",
      "53\n"
     ]
    }
   ],
   "source": [
    "# Call the Function\n",
    "\n",
    "print(add(10,20))\n",
    "\n",
    "print('-------------------------------------------------------')\n",
    "\n",
    "ans = add(21, 32)\n",
    "\n",
    "print(ans)"
   ]
  },
  {
   "cell_type": "markdown",
   "id": "9b37e551-b98c-4ff2-b51b-c331c6233b39",
   "metadata": {},
   "source": [
    "Function Methods:\n",
    "-----------------"
   ]
  },
  {
   "cell_type": "markdown",
   "id": "e450a6dd-5e0a-44cf-91f4-9c11539a7b61",
   "metadata": {},
   "source": [
    "# 01. Arbitrary Argument Function:\n",
    "----------------------------------"
   ]
  },
  {
   "cell_type": "code",
   "execution_count": 19,
   "id": "95cebac2-8dc3-4cd6-a9c8-fa4b8bd295b6",
   "metadata": {},
   "outputs": [],
   "source": [
    "# Create the Function\n",
    "\n",
    "def details(*detail):\n",
    "    print(detail, type(detail))\n"
   ]
  },
  {
   "cell_type": "code",
   "execution_count": 20,
   "id": "0510cb5d-aa09-4f00-9265-2ea52ff747f4",
   "metadata": {},
   "outputs": [
    {
     "name": "stdout",
     "output_type": "stream",
     "text": [
      "(10, 'Sara', 26, 'FeMale') <class 'tuple'>\n"
     ]
    }
   ],
   "source": [
    "# Call the Function\n",
    "\n",
    "details(10, 'Sara', 26, 'FeMale')"
   ]
  },
  {
   "cell_type": "markdown",
   "id": "8f855ad7-e508-499f-8205-1aff6e65dd8b",
   "metadata": {},
   "source": [
    "# 02. Key Word Argument Function:\n",
    "---------------------------------"
   ]
  },
  {
   "cell_type": "code",
   "execution_count": 24,
   "id": "9df86bc6-b27e-4b6a-9fcf-01cab80d87d8",
   "metadata": {},
   "outputs": [],
   "source": [
    "# Create the Function\n",
    "\n",
    "def details(sid, name, age, gender):\n",
    "    print(sid, ' Name is ', name, ' age is ', age, ' gender is ', gender)\n"
   ]
  },
  {
   "cell_type": "code",
   "execution_count": 25,
   "id": "6a223256-dd3d-4f0e-a20c-b92ce5ba6081",
   "metadata": {},
   "outputs": [
    {
     "name": "stdout",
     "output_type": "stream",
     "text": [
      "10  Name is  Sara  age is  26  gender is  FeMale\n"
     ]
    }
   ],
   "source": [
    "# Call the Function\n",
    "\n",
    "details(sid = 10, gender = 'FeMale', name = 'Sara', age = 26)"
   ]
  },
  {
   "cell_type": "code",
   "execution_count": 26,
   "id": "b8f40e1b-6e27-43dd-85ef-51dc4919bbaa",
   "metadata": {},
   "outputs": [
    {
     "name": "stdout",
     "output_type": "stream",
     "text": [
      "10  Name is  FeMale  age is  Sara  gender is  26\n"
     ]
    }
   ],
   "source": [
    "# Call the Function\n",
    "\n",
    "details(10, 'FeMale', 'Sara', 26)"
   ]
  },
  {
   "cell_type": "markdown",
   "id": "56cdc346-02b8-41c0-81a7-9bf48399f7a3",
   "metadata": {},
   "source": [
    "# 03 Key word Arbitrary Function:\n",
    "---------------------------------"
   ]
  },
  {
   "cell_type": "code",
   "execution_count": 29,
   "id": "89ea5a0b-a789-4010-aab2-068005e9006a",
   "metadata": {},
   "outputs": [],
   "source": [
    "# Create the Function\n",
    "\n",
    "def details(**detail):\n",
    "    print(detail, type(detail))\n",
    "\n",
    "    print('Name : ', detail['name'])\n"
   ]
  },
  {
   "cell_type": "code",
   "execution_count": 30,
   "id": "b0e5d12c-b8ef-4c4d-82be-d8e405b466ef",
   "metadata": {},
   "outputs": [
    {
     "name": "stdout",
     "output_type": "stream",
     "text": [
      "{'sid': 10, 'gender': 'FeMale', 'name': 'Sara', 'age': 26} <class 'dict'>\n",
      "Name :  Sara\n"
     ]
    }
   ],
   "source": [
    "# Call the Function\n",
    "\n",
    "details(sid = 10, gender = 'FeMale', name = 'Sara', age = 26)"
   ]
  },
  {
   "cell_type": "markdown",
   "id": "7019e48a-43c0-48af-87b0-941ee5ba4e1a",
   "metadata": {},
   "source": [
    "# 04. Default Parameter Function:\n",
    "---------------------------------"
   ]
  },
  {
   "cell_type": "code",
   "execution_count": 34,
   "id": "1a32ca32-8aea-4c2c-8ab9-e84c2b7ce3bb",
   "metadata": {},
   "outputs": [],
   "source": [
    "# Create the Function\n",
    "\n",
    "def details(sid, name, age, gender, city = 'TN'):\n",
    "    print(sid, ' Name is ', name, ' age is ', age, ' gender is ', gender, ' city is ', city)\n"
   ]
  },
  {
   "cell_type": "code",
   "execution_count": 35,
   "id": "146c3494-f35e-4275-b2d0-da9d949e8a2e",
   "metadata": {},
   "outputs": [
    {
     "name": "stdout",
     "output_type": "stream",
     "text": [
      "10  Name is  Sara  age is  26  gender is  FeMale  city is  Chennai\n"
     ]
    }
   ],
   "source": [
    "# Call the Function\n",
    "\n",
    "details(sid = 10, gender = 'FeMale', name = 'Sara', age = 26, city = 'Chennai')"
   ]
  },
  {
   "cell_type": "code",
   "execution_count": 36,
   "id": "fea0f4ad-f65e-4bb8-ae96-c967d5f6a31c",
   "metadata": {},
   "outputs": [
    {
     "name": "stdout",
     "output_type": "stream",
     "text": [
      "10  Name is  Sara  age is  26  gender is  FeMale  city is  TN\n"
     ]
    }
   ],
   "source": [
    "# Call the Function\n",
    "\n",
    "details(sid = 10, gender = 'FeMale', name = 'Sara', age = 26)"
   ]
  },
  {
   "cell_type": "markdown",
   "id": "de5cec5b-94f7-4c99-8ec0-a4747f0c77e6",
   "metadata": {},
   "source": [
    "# 05 Pass the List Values:\n",
    "--------------------------"
   ]
  },
  {
   "cell_type": "code",
   "execution_count": 37,
   "id": "d8f7a056-c26d-4f8c-9969-2423f9787a2e",
   "metadata": {},
   "outputs": [],
   "source": [
    "# Create the Function\n",
    "\n",
    "def details(detail):\n",
    "    print(detail, type(detail))\n"
   ]
  },
  {
   "cell_type": "code",
   "execution_count": 39,
   "id": "082bc4a2-18f2-42b1-bbbc-143d22a37019",
   "metadata": {},
   "outputs": [
    {
     "name": "stdout",
     "output_type": "stream",
     "text": [
      "[10, 'Sara', 26, 'FeMale'] <class 'list'>\n"
     ]
    }
   ],
   "source": [
    "# Call the Function\n",
    "\n",
    "details([10, 'Sara', 26, 'FeMale'])"
   ]
  },
  {
   "cell_type": "code",
   "execution_count": null,
   "id": "8973ad28-f56b-4612-a7e6-ae7b012fdd10",
   "metadata": {},
   "outputs": [],
   "source": [
    "\n",
    "'''\n",
    "\n",
    "Today Work\n",
    "\n",
    "1. Sample Output\n",
    "\n",
    "Enter Value 01 : 20\n",
    "\n",
    "Enter value 02 : 10\n",
    "\n",
    "20 + 10 = 30\n",
    "20 - 10 = 10\n",
    "20 * 10 = 20\n",
    "20 / 10 = 2\n",
    "\n",
    "2. Sample Output\n",
    "\n",
    "Enter the Limit value : 5\n",
    "\n",
    "Enter the Table value : 2\n",
    "\n",
    "1 X 2 = 2\n",
    "2 X 2 = 4\n",
    "3 X 2 = 6\n",
    "4 X 2 = 8\n",
    "5 X 2 = 10\n",
    "\n",
    "3. Sample Output\n",
    "\n",
    "call the Function\n",
    "\n",
    "# Call the Function Using Keyword Arbitrary Argument Function\n",
    "\n",
    "details(sid = 10, gender = 'FeMale', name = 'Sara', age = 26, city = 'Chennai')\n",
    "\n",
    "Output:\n",
    "\n",
    "Student ID : 10\n",
    "\n",
    "Name & Age : Sara your age is 26 \n",
    "\n",
    "Gender : FeMale\n",
    "\n",
    "City : Chennai\n",
    "\n",
    "\n",
    "\n",
    "'''"
   ]
  }
 ],
 "metadata": {
  "kernelspec": {
   "display_name": "Python 3 (ipykernel)",
   "language": "python",
   "name": "python3"
  },
  "language_info": {
   "codemirror_mode": {
    "name": "ipython",
    "version": 3
   },
   "file_extension": ".py",
   "mimetype": "text/x-python",
   "name": "python",
   "nbconvert_exporter": "python",
   "pygments_lexer": "ipython3",
   "version": "3.13.2"
  }
 },
 "nbformat": 4,
 "nbformat_minor": 5
}
