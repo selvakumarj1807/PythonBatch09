{
 "cells": [
  {
   "cell_type": "markdown",
   "id": "325fede9-2160-4d5f-9d99-effcdf124b1d",
   "metadata": {},
   "source": [
    "Python Basics:\n",
    "--------------"
   ]
  },
  {
   "cell_type": "code",
   "execution_count": 3,
   "id": "d324bc30-31e5-46ed-a219-8695fd902faa",
   "metadata": {},
   "outputs": [
    {
     "name": "stdout",
     "output_type": "stream",
     "text": [
      "Hi\n",
      "Welcome\n"
     ]
    }
   ],
   "source": [
    "print('Hi')\n",
    "print('Welcome')"
   ]
  },
  {
   "cell_type": "code",
   "execution_count": 4,
   "id": "6e43a722-af6e-498d-81ff-f72ead98218a",
   "metadata": {},
   "outputs": [
    {
     "name": "stdout",
     "output_type": "stream",
     "text": [
      "10\n"
     ]
    }
   ],
   "source": [
    "print(10)"
   ]
  },
  {
   "cell_type": "markdown",
   "id": "77746e59-56ac-4e93-9b93-f018affa04ff",
   "metadata": {},
   "source": [
    "Variable:\n",
    "---------"
   ]
  },
  {
   "cell_type": "code",
   "execution_count": 6,
   "id": "5030e489-5cd9-44f5-aa85-d99eb720f6d2",
   "metadata": {},
   "outputs": [
    {
     "name": "stdout",
     "output_type": "stream",
     "text": [
      "12\n",
      "8\n"
     ]
    }
   ],
   "source": [
    "a = 10\n",
    "\n",
    "b = 2\n",
    "\n",
    "print(a + b)\n",
    "\n",
    "print(a - b)"
   ]
  },
  {
   "cell_type": "markdown",
   "id": "2b071f2c-967e-48fc-9bf1-45b2fa1ee3e8",
   "metadata": {},
   "source": [
    "DataType:\n",
    "---------"
   ]
  },
  {
   "cell_type": "code",
   "execution_count": 12,
   "id": "5c312136-7782-485c-bfb5-d80751543161",
   "metadata": {},
   "outputs": [
    {
     "name": "stdout",
     "output_type": "stream",
     "text": [
      "18 <class 'int'>\n",
      "sara@gmail.com <class 'str'>\n",
      "90.5 <class 'float'>\n",
      "False <class 'bool'>\n"
     ]
    }
   ],
   "source": [
    "age = 18\n",
    "\n",
    "eamil = 'sara@gmail.com'\n",
    "\n",
    "average = 90.5\n",
    "\n",
    "married = False\n",
    "\n",
    "print(age, type(age))\n",
    "\n",
    "print(eamil, type(eamil))\n",
    "\n",
    "print(average, type(average))\n",
    "\n",
    "print(married, type(married))"
   ]
  },
  {
   "cell_type": "markdown",
   "id": "79b9904a-b4b8-4a9a-8341-991caecaae5d",
   "metadata": {},
   "source": [
    "Python Inputs:\n",
    "--------------"
   ]
  },
  {
   "cell_type": "code",
   "execution_count": 15,
   "id": "5c9ece66-d5b7-4d2e-b3f3-cc2e28f59315",
   "metadata": {},
   "outputs": [
    {
     "name": "stdin",
     "output_type": "stream",
     "text": [
      "Enter your age :  22\n",
      "Enter your Gmail :  admin@gmail.com\n",
      "Enter your average :  55.5\n",
      "Enter your maritial status (True / False) :  False\n"
     ]
    },
    {
     "name": "stdout",
     "output_type": "stream",
     "text": [
      "22 <class 'int'>\n",
      "admin@gmail.com <class 'str'>\n",
      "55.5 <class 'float'>\n",
      "True <class 'bool'>\n"
     ]
    }
   ],
   "source": [
    "age = int(input('Enter your age : '))\n",
    "\n",
    "eamil = input('Enter your Gmail : ')\n",
    "\n",
    "average = float(input('Enter your average : '))\n",
    "\n",
    "married = bool(input('Enter your maritial status (True / False) : '))\n",
    "\n",
    "print(age, type(age))\n",
    "\n",
    "print(eamil, type(eamil))\n",
    "\n",
    "print(average, type(average))\n",
    "\n",
    "print(married, type(married))"
   ]
  },
  {
   "cell_type": "code",
   "execution_count": null,
   "id": "4e899b91-60ce-4475-afb5-1033b20d4069",
   "metadata": {},
   "outputs": [],
   "source": []
  }
 ],
 "metadata": {
  "kernelspec": {
   "display_name": "Python 3 (ipykernel)",
   "language": "python",
   "name": "python3"
  },
  "language_info": {
   "codemirror_mode": {
    "name": "ipython",
    "version": 3
   },
   "file_extension": ".py",
   "mimetype": "text/x-python",
   "name": "python",
   "nbconvert_exporter": "python",
   "pygments_lexer": "ipython3",
   "version": "3.13.2"
  }
 },
 "nbformat": 4,
 "nbformat_minor": 5
}
