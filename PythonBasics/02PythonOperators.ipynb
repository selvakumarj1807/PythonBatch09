{
 "cells": [
  {
   "cell_type": "markdown",
   "id": "93ad211d-6362-4587-84b3-385387241e54",
   "metadata": {},
   "source": [
    "Python Operators:\n",
    "-----------------\n",
    "\n",
    "1. Arithmatic Operators\n",
    "2. Arithmatic Assignment Operaotrs\n",
    "3. Comparision Operators\n",
    "4. Logical Operators\n",
    "5. in, not in\n",
    "6. is, is not\n",
    "7. Bitwise Operators "
   ]
  },
  {
   "cell_type": "markdown",
   "id": "9ccb24a0-7283-4b5b-b770-459a090ef204",
   "metadata": {},
   "source": [
    "# 1. Arithmatic Operators\n",
    "-------------------------\n",
    "(+, -, *, /, %, **, //)"
   ]
  },
  {
   "cell_type": "code",
   "execution_count": 13,
   "id": "d1c29a47-b553-4371-9437-48f9c96c0b2f",
   "metadata": {},
   "outputs": [
    {
     "name": "stdout",
     "output_type": "stream",
     "text": [
      "Addition :  9\n",
      "Subtraction :  5\n",
      "Multiplication :  14\n",
      "Division :  3.5\n",
      "Floor Division :  3\n",
      "Modulas :  1\n",
      "Exponentiation :  49\n"
     ]
    }
   ],
   "source": [
    "a = 7\n",
    "b = 2\n",
    "\n",
    "print('Addition : ', a + b)\n",
    "print('Subtraction : ', a - b)\n",
    "print('Multiplication : ', a * b)\n",
    "print('Division : ', a / b) # Return quotient\n",
    "print('Floor Division : ', a // b)\n",
    "print('Modulas : ', a % b) # Return Remainder value\n",
    "print('Exponentiation : ', a ** b) # 7 ** 2 --> 7 * 7"
   ]
  },
  {
   "cell_type": "markdown",
   "id": "428792c7-a9ca-459c-be07-77387c4eb7a0",
   "metadata": {},
   "source": [
    "# Arithmatic Assignment Operaotrs\n",
    "---------------------------------\n",
    "\n",
    "1. Assignment Operaotrs - (=)\n",
    "2. Arithmatic Assignment Operaotrs - (+=, -=, *=, /=, %=, **=, //=)"
   ]
  },
  {
   "cell_type": "code",
   "execution_count": 16,
   "id": "231fec28-8646-4d8b-a6e2-c1d459a85de8",
   "metadata": {},
   "outputs": [
    {
     "name": "stdout",
     "output_type": "stream",
     "text": [
      "10\n",
      "11\n"
     ]
    }
   ],
   "source": [
    "a = 10\n",
    "\n",
    "print(a)\n",
    "\n",
    "a += 1 # a = a + 1\n",
    "\n",
    "print(a)"
   ]
  },
  {
   "cell_type": "code",
   "execution_count": 17,
   "id": "159cfdbe-c02d-4cc5-86bf-12be012cf1dc",
   "metadata": {},
   "outputs": [
    {
     "name": "stdout",
     "output_type": "stream",
     "text": [
      "10\n",
      "9\n"
     ]
    }
   ],
   "source": [
    "a = 10\n",
    "\n",
    "print(a)\n",
    "\n",
    "a -= 1 # a = a - 1\n",
    "\n",
    "print(a)"
   ]
  },
  {
   "cell_type": "markdown",
   "id": "81388368-9eab-4a86-9c7a-3b8b7c8bfa3f",
   "metadata": {},
   "source": [
    "# 3. Comparision Operators:\n",
    "---------------------------\n",
    "\n",
    "(==, !=, <, >, <=, >= )"
   ]
  },
  {
   "cell_type": "code",
   "execution_count": 11,
   "id": "489b8e6c-bc63-4e66-bcc4-45330ccb6f82",
   "metadata": {},
   "outputs": [
    {
     "name": "stdout",
     "output_type": "stream",
     "text": [
      "True\n",
      "False\n",
      "False\n",
      "True\n",
      "False\n",
      "True\n"
     ]
    }
   ],
   "source": [
    "print(10 == 10)\n",
    "\n",
    "print(10 != 10)\n",
    "\n",
    "print(10 < 10)\n",
    "\n",
    "print(10 <= 10)\n",
    "\n",
    "print(10 > 10)\n",
    "\n",
    "print(10 >= 10)"
   ]
  },
  {
   "cell_type": "markdown",
   "id": "55a4fbda-395c-4fc9-8c67-4f1a3db08d65",
   "metadata": {},
   "source": [
    "# 4. Logical Operators:\n",
    "-----------------------\n",
    "\n",
    "(and, or, not)"
   ]
  },
  {
   "cell_type": "code",
   "execution_count": 12,
   "id": "f527f4bc-bebd-4266-8c70-4a33936b4208",
   "metadata": {},
   "outputs": [
    {
     "name": "stdout",
     "output_type": "stream",
     "text": [
      "False\n",
      "True\n",
      "False\n"
     ]
    }
   ],
   "source": [
    "# and\n",
    "\n",
    "print((10 == 2))\n",
    "\n",
    "print((10 < 15))\n",
    "\n",
    "print((10 == 2) and (10 < 15))"
   ]
  },
  {
   "cell_type": "code",
   "execution_count": 13,
   "id": "07d373d2-42e9-4d55-bf6a-5fb7d96158e7",
   "metadata": {},
   "outputs": [
    {
     "name": "stdout",
     "output_type": "stream",
     "text": [
      "False\n",
      "True\n",
      "True\n"
     ]
    }
   ],
   "source": [
    "# or\n",
    "\n",
    "print((10 == 2))\n",
    "\n",
    "print((10 < 15))\n",
    "\n",
    "print((10 == 2) or (10 < 15))"
   ]
  },
  {
   "cell_type": "code",
   "execution_count": 17,
   "id": "de1961c8-a32a-48c3-a5b8-326930d513fb",
   "metadata": {},
   "outputs": [
    {
     "name": "stdout",
     "output_type": "stream",
     "text": [
      "False\n",
      "True\n",
      "True\n",
      "False\n"
     ]
    }
   ],
   "source": [
    "# not\n",
    "\n",
    "print((10 == 2))\n",
    "\n",
    "print(not(10 == 2))\n",
    "\n",
    "print((10 == 2) or (10 < 15))\n",
    "\n",
    "print (not((10 == 2) or (10 < 15)))\n"
   ]
  },
  {
   "cell_type": "markdown",
   "id": "46acb384-7fad-4ae5-9da5-c7caf4513e97",
   "metadata": {},
   "source": [
    "# 5. in, not in:\n",
    "----------------"
   ]
  },
  {
   "cell_type": "code",
   "execution_count": 23,
   "id": "b6f5e503-d4ed-462e-8f84-69ec56e6920b",
   "metadata": {},
   "outputs": [
    {
     "name": "stdout",
     "output_type": "stream",
     "text": [
      "Sara <class 'str'>\n",
      "--------------------------------------\n",
      "['Sara', 'Ram', 'Sam', 'PR'] <class 'list'>\n",
      "--------------------------------------\n",
      "True\n",
      "False\n",
      "True\n"
     ]
    }
   ],
   "source": [
    "studentNames = 'Sara'\n",
    "\n",
    "print(studentNames, type(studentNames))\n",
    "\n",
    "print('--------------------------------------')\n",
    "\n",
    "studentNames = ['Sara', 'Ram', 'Sam', 'PR']\n",
    "\n",
    "print(studentNames, type(studentNames))\n",
    "\n",
    "print('--------------------------------------')\n",
    "\n",
    "print('Sara' in studentNames)\n",
    "\n",
    "print('Lara' in studentNames)\n",
    "\n",
    "print('Lara' not in studentNames)"
   ]
  },
  {
   "cell_type": "markdown",
   "id": "712d0d5b-f18f-4cb0-879b-2d4c28067c55",
   "metadata": {},
   "source": [
    "# 6. is, is not\n",
    "---------------"
   ]
  },
  {
   "cell_type": "code",
   "execution_count": 29,
   "id": "2ca1eb82-78a6-4663-8ce5-3ee88768c9ca",
   "metadata": {},
   "outputs": [
    {
     "name": "stdout",
     "output_type": "stream",
     "text": [
      "140717071344840\n",
      "140717071344840\n",
      "------------------------------------\n",
      "True\n",
      "False\n"
     ]
    }
   ],
   "source": [
    "a = 10\n",
    "b = 10\n",
    "\n",
    "print(id(a))\n",
    "print(id(b))\n",
    "\n",
    "print('------------------------------------')\n",
    "\n",
    "print(a is b)\n",
    "\n",
    "print(a is not b)"
   ]
  },
  {
   "cell_type": "markdown",
   "id": "26a11e1d-a8bb-44b6-a1a8-0f059ff0ad63",
   "metadata": {},
   "source": [
    "# 7. Bitwise Operators:\n",
    "-----------------------\n",
    "\n",
    "(&, |, ^, ~, left shift Operator, , right shift Operator)"
   ]
  },
  {
   "cell_type": "code",
   "execution_count": 32,
   "id": "8eb9495c-9adb-413a-9d3e-ee7fad5e9918",
   "metadata": {},
   "outputs": [
    {
     "name": "stdout",
     "output_type": "stream",
     "text": [
      "2\n"
     ]
    }
   ],
   "source": [
    "'''\n",
    "0 = False\n",
    "1 = True\n",
    "\n",
    "Bitwise & Operators(and) - Any One is False then Everything is false\n",
    "'''\n",
    "\n",
    "a = 10 # -- 1010 \n",
    "b = 2  # -- 0010\n",
    "#----------------\n",
    "#           0010\n",
    "\n",
    "print(a & b)"
   ]
  },
  {
   "cell_type": "code",
   "execution_count": 33,
   "id": "4480901d-c365-423e-82d8-8cc6a6ab7492",
   "metadata": {},
   "outputs": [
    {
     "name": "stdout",
     "output_type": "stream",
     "text": [
      "10\n"
     ]
    }
   ],
   "source": [
    "'''\n",
    "0 = False\n",
    "1 = True\n",
    "\n",
    "Bitwise | Operators(or) - Any one is true everything is true\n",
    "'''\n",
    "\n",
    "a = 10 # -- 1010 \n",
    "b = 2  # -- 0010\n",
    "#----------------\n",
    "#           1010\n",
    "\n",
    "print(a | b)"
   ]
  },
  {
   "cell_type": "code",
   "execution_count": 34,
   "id": "16547636-c3d7-4ab0-b03d-cadfd4235eb4",
   "metadata": {},
   "outputs": [
    {
     "name": "stdout",
     "output_type": "stream",
     "text": [
      "8\n"
     ]
    }
   ],
   "source": [
    "'''\n",
    "0 = False\n",
    "1 = True\n",
    "\n",
    "Bitwise ^ Operators(Xor) - Both values have true then return false\n",
    "'''\n",
    "\n",
    "a = 10 # -- 1010 \n",
    "b = 2  # -- 0010\n",
    "#----------------\n",
    "#           1000\n",
    "\n",
    "print(a ^ b)"
   ]
  },
  {
   "cell_type": "code",
   "execution_count": 36,
   "id": "60a73c7e-e19c-456e-befa-5a02055ddf21",
   "metadata": {},
   "outputs": [
    {
     "name": "stdout",
     "output_type": "stream",
     "text": [
      "10\n",
      "-11\n",
      "18\n"
     ]
    }
   ],
   "source": [
    "'''\n",
    "Bitwise Not Operators(~)\n",
    "\n",
    "a = 10\n",
    "\n",
    "~a = -(a + 1)\n",
    "~10 = -(10 + 1)\n",
    "    = -11\n",
    "'''\n",
    "\n",
    "a = 10\n",
    "\n",
    "print(a)\n",
    "\n",
    "print(~a)\n",
    "\n",
    "print(~(-19))  # (-(-19 + 1)) -- (-(-18)) -- 18\n"
   ]
  },
  {
   "cell_type": "code",
   "execution_count": 39,
   "id": "4401e854-bf9b-495c-b879-1c646cf6a0f6",
   "metadata": {},
   "outputs": [
    {
     "name": "stdout",
     "output_type": "stream",
     "text": [
      "40\n",
      "80\n"
     ]
    }
   ],
   "source": [
    "# left shift Operator\n",
    "'''\n",
    "a = 10\n",
    "\n",
    "a << 2 --> 10 << 2 --> 10 * (2 * 2) --> 10(4) --> 40\n",
    "\n",
    "10 << 3 --> 10 << 3 --> 10 * (2 * 2 * 2) --> 10(8) --> 80\n",
    "\n",
    "'''\n",
    "\n",
    "a = 10\n",
    "\n",
    "print(a << 2)\n",
    "\n",
    "print(10 << 3)"
   ]
  },
  {
   "cell_type": "code",
   "execution_count": 40,
   "id": "560ec3f5-168b-4ac0-8256-da5b854fc843",
   "metadata": {},
   "outputs": [
    {
     "name": "stdout",
     "output_type": "stream",
     "text": [
      "2\n",
      "1\n"
     ]
    }
   ],
   "source": [
    "# right shift Operator\n",
    "'''\n",
    "a = 10\n",
    "\n",
    "a >> 2 --> 10 >> 2 --> 10 / (2 * 2) --> 10/(4) --> 40\n",
    "\n",
    "10 >> 3 --> 10 >> 3 --> 10 / (2 * 2 * 2) --> 10/(8) --> 80\n",
    "\n",
    "'''\n",
    "\n",
    "a = 10\n",
    "\n",
    "print(a >> 2)\n",
    "\n",
    "print(10 >> 3)"
   ]
  },
  {
   "cell_type": "code",
   "execution_count": null,
   "id": "7d8fd076-b81e-4b7e-b8a5-ef9429147c50",
   "metadata": {},
   "outputs": [],
   "source": []
  }
 ],
 "metadata": {
  "kernelspec": {
   "display_name": "Python 3 (ipykernel)",
   "language": "python",
   "name": "python3"
  },
  "language_info": {
   "codemirror_mode": {
    "name": "ipython",
    "version": 3
   },
   "file_extension": ".py",
   "mimetype": "text/x-python",
   "name": "python",
   "nbconvert_exporter": "python",
   "pygments_lexer": "ipython3",
   "version": "3.13.2"
  }
 },
 "nbformat": 4,
 "nbformat_minor": 5
}
