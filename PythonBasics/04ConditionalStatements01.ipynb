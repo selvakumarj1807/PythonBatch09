{
 "cells": [
  {
   "cell_type": "markdown",
   "id": "a9589558-9980-43fb-9f1e-ddb70bf685ca",
   "metadata": {},
   "source": [
    "# IF:\n",
    "-----"
   ]
  },
  {
   "cell_type": "code",
   "execution_count": 4,
   "id": "6e5edbb4-2446-403d-a706-7798b117cb6d",
   "metadata": {},
   "outputs": [
    {
     "name": "stdout",
     "output_type": "stream",
     "text": [
      "True\n",
      "------------------------------------------------\n",
      "20  is above 18\n"
     ]
    }
   ],
   "source": [
    "a = 20\n",
    "\n",
    "print(a >= 18)\n",
    "\n",
    "print('------------------------------------------------')\n",
    "\n",
    "if (a >= 18):\n",
    "    print(a, ' is above 18')"
   ]
  },
  {
   "cell_type": "markdown",
   "id": "3dcb85ac-9a02-48bc-9986-b0d94265197a",
   "metadata": {},
   "source": [
    "If & Else:\n",
    "----------"
   ]
  },
  {
   "cell_type": "code",
   "execution_count": 6,
   "id": "2684d698-4f90-4a46-b604-68959aa43801",
   "metadata": {},
   "outputs": [
    {
     "name": "stdout",
     "output_type": "stream",
     "text": [
      "False\n",
      "------------------------------------------------\n",
      "15  is below 18\n"
     ]
    }
   ],
   "source": [
    "a = 15\n",
    "\n",
    "print(a >= 18)\n",
    "\n",
    "print('------------------------------------------------')\n",
    "\n",
    "if (a >= 18):\n",
    "    print(a, ' is above 18')\n",
    "\n",
    "else:\n",
    "    print(a, ' is below 18')"
   ]
  },
  {
   "cell_type": "markdown",
   "id": "39435959-0841-47b3-ac28-f709c67ffce9",
   "metadata": {},
   "source": [
    "If & Elif & Else:\n",
    "-----------------"
   ]
  },
  {
   "cell_type": "code",
   "execution_count": 13,
   "id": "42e03ae6-8ca7-4d72-aa38-b49b420aef7e",
   "metadata": {},
   "outputs": [
    {
     "name": "stdout",
     "output_type": "stream",
     "text": [
      "81\n",
      "----------------------------------------------------\n",
      "81  have B Grade\n"
     ]
    }
   ],
   "source": [
    "m1 = 100\n",
    "m2 = 50\n",
    "m3 = 95\n",
    "\n",
    "total = m1 + m2 + m3\n",
    "\n",
    "avg = int(total / 3)\n",
    "\n",
    "print(avg)\n",
    "\n",
    "print('----------------------------------------------------')\n",
    "\n",
    "if avg >= 90 and avg <= 100:\n",
    "    print(avg, ' have A Grade')\n",
    "\n",
    "elif avg >= 80 and avg <= 90:\n",
    "    print(avg, ' have B Grade')\n",
    "\n",
    "elif avg >= 70 and avg <= 80:\n",
    "    print(avg, ' have C Grade')\n",
    "\n",
    "else:\n",
    "    print(avg, ' have No Grade')"
   ]
  },
  {
   "cell_type": "markdown",
   "id": "337396d9-041e-4620-b564-8198778dc65b",
   "metadata": {},
   "source": [
    "Nested If:\n",
    "----------"
   ]
  },
  {
   "cell_type": "code",
   "execution_count": 19,
   "id": "fde0dec7-87a3-4b44-b687-447be2addd0c",
   "metadata": {},
   "outputs": [
    {
     "name": "stdout",
     "output_type": "stream",
     "text": [
      "----------------------------------------------------\n",
      "Total :  280\n",
      "Average :  93\n",
      "93  have A Grade\n"
     ]
    }
   ],
   "source": [
    "m1 = 90\n",
    "m2 = 95\n",
    "m3 = 95\n",
    "\n",
    "total = m1 + m2 + m3\n",
    "\n",
    "avg = int(total / 3)\n",
    "\n",
    "print('----------------------------------------------------')\n",
    "\n",
    "if m1 >= 35 and m2 >= 35 and m3 >= 35:\n",
    "    print('Total : ', total)\n",
    "\n",
    "    print('Average : ', avg)\n",
    "\n",
    "    if avg >= 90 and avg <= 100:\n",
    "        print(avg, ' have A Grade')\n",
    "\n",
    "    elif avg >= 80 and avg <= 90:\n",
    "        print(avg, ' have B Grade')\n",
    "    \n",
    "    elif avg >= 70 and avg <= 80:\n",
    "        print(avg, ' have C Grade')\n",
    "    \n",
    "    else:\n",
    "        print(avg, ' have No Grade')\n",
    "\n",
    "else:\n",
    "    print('No Comments')\n",
    "\n",
    "    if m1 <= 35:\n",
    "        print(m1, ' Mark1 is below 35')\n",
    "\n",
    "    if m2 <= 35:\n",
    "        print(m2, ' Mark2 is below 35')\n",
    "\n",
    "    if m3 <= 35:\n",
    "        print(m3, ' Mark1 is below 35')"
   ]
  },
  {
   "cell_type": "code",
   "execution_count": null,
   "id": "094ebbc7-39b1-4e56-8005-ea70759adeb2",
   "metadata": {},
   "outputs": [],
   "source": []
  }
 ],
 "metadata": {
  "kernelspec": {
   "display_name": "Python 3 (ipykernel)",
   "language": "python",
   "name": "python3"
  },
  "language_info": {
   "codemirror_mode": {
    "name": "ipython",
    "version": 3
   },
   "file_extension": ".py",
   "mimetype": "text/x-python",
   "name": "python",
   "nbconvert_exporter": "python",
   "pygments_lexer": "ipython3",
   "version": "3.13.2"
  }
 },
 "nbformat": 4,
 "nbformat_minor": 5
}
