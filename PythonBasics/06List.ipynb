{
 "cells": [
  {
   "cell_type": "markdown",
   "id": "fb951823-34c8-48ce-a285-3b22a7a766bc",
   "metadata": {},
   "source": [
    "List:\n",
    "-----\n",
    "\n",
    "1. List is Collection of Data Type\n",
    "2. Can Store n number of values and can differen data type values in a single variable.\n",
    "3. Declare [].\n",
    "4. List Store the values - Index based\n",
    "5. List are Mutable"
   ]
  },
  {
   "cell_type": "code",
   "execution_count": 1,
   "id": "29f0537b-ce94-4574-b92e-2d5e1925e097",
   "metadata": {},
   "outputs": [
    {
     "name": "stdout",
     "output_type": "stream",
     "text": [
      "[101, 'Sara', 25, 'sara@gmail.com', True] <class 'list'>\n"
     ]
    }
   ],
   "source": [
    "details = [101, 'Sara', 25, 'sara@gmail.com', True]\n",
    "\n",
    "print(details, type(details))"
   ]
  },
  {
   "cell_type": "code",
   "execution_count": 3,
   "id": "8166a85b-3089-4604-a7ec-da81ef8df36f",
   "metadata": {},
   "outputs": [
    {
     "name": "stdout",
     "output_type": "stream",
     "text": [
      "101 <class 'int'>\n"
     ]
    }
   ],
   "source": [
    "print(details[0], type(details[0]))"
   ]
  },
  {
   "cell_type": "code",
   "execution_count": 5,
   "id": "cec5efae-dfa3-4751-8a88-dbef8cb0aca4",
   "metadata": {},
   "outputs": [
    {
     "name": "stdout",
     "output_type": "stream",
     "text": [
      "101 <class 'int'>\n",
      "Sara <class 'str'>\n",
      "25 <class 'int'>\n",
      "sara@gmail.com <class 'str'>\n",
      "True <class 'bool'>\n"
     ]
    }
   ],
   "source": [
    "for i in details:\n",
    "    print(i, type(i))"
   ]
  },
  {
   "cell_type": "markdown",
   "id": "2aed3dcb-8058-4d1e-8ee9-620637c88572",
   "metadata": {},
   "source": [
    "Append:\n",
    "-------"
   ]
  },
  {
   "cell_type": "code",
   "execution_count": 6,
   "id": "f8530964-99f3-4f4f-a21f-5111e826ebea",
   "metadata": {},
   "outputs": [
    {
     "name": "stdout",
     "output_type": "stream",
     "text": [
      "[101, 'Sara', 25, 'sara@gmail.com', True]\n",
      "--------------------------------------\n",
      "[101, 'Sara', 25, 'sara@gmail.com', True, 'TN']\n"
     ]
    }
   ],
   "source": [
    "details = [101, 'Sara', 25, 'sara@gmail.com', True]\n",
    "\n",
    "print(details)\n",
    "\n",
    "print('--------------------------------------')\n",
    "\n",
    "details.append('TN')\n",
    "\n",
    "print(details)"
   ]
  },
  {
   "cell_type": "markdown",
   "id": "926b7cf1-d436-453c-85da-14492a1bd3cc",
   "metadata": {},
   "source": [
    "Extend:\n",
    "-------"
   ]
  },
  {
   "cell_type": "code",
   "execution_count": 9,
   "id": "34583593-7c7d-4aef-8890-faddd17ef7ff",
   "metadata": {},
   "outputs": [
    {
     "name": "stdout",
     "output_type": "stream",
     "text": [
      "[101, 'Sara', 25, 'sara@gmail.com', True, 'TN']\n"
     ]
    }
   ],
   "source": [
    "detail01 = [101, 'Sara', 25]\n",
    "\n",
    "detail02 = ['sara@gmail.com', True, 'TN']\n",
    "\n",
    "detail01.extend(detail02)\n",
    "\n",
    "print(detail01)"
   ]
  },
  {
   "cell_type": "markdown",
   "id": "ad19a3aa-afda-4e5a-b32f-76e628b371b1",
   "metadata": {},
   "source": [
    "Remove:\n",
    "-------"
   ]
  },
  {
   "cell_type": "code",
   "execution_count": 10,
   "id": "d4086fde-9b2b-4403-9299-7d0bdf290d1c",
   "metadata": {},
   "outputs": [
    {
     "name": "stdout",
     "output_type": "stream",
     "text": [
      "[101, 'Sara', 25, 'sara@gmail.com', True]\n",
      "-----------------------------------------------------\n",
      "[101, 25, 'sara@gmail.com', True]\n"
     ]
    }
   ],
   "source": [
    "details = [101, 'Sara', 25, 'sara@gmail.com', True]\n",
    "\n",
    "print(details)\n",
    "\n",
    "print('-----------------------------------------------------')\n",
    "\n",
    "details.remove('Sara')\n",
    "\n",
    "print(details)"
   ]
  },
  {
   "cell_type": "markdown",
   "id": "b9bfd125-bdc4-48a4-903c-647e3c2af83d",
   "metadata": {},
   "source": [
    "Insert:\n",
    "-------"
   ]
  },
  {
   "cell_type": "code",
   "execution_count": 12,
   "id": "6ce6fc9a-a66e-4160-9537-f9e3a34c0836",
   "metadata": {},
   "outputs": [
    {
     "name": "stdout",
     "output_type": "stream",
     "text": [
      "[101, 'Sara', 25, 'sara@gmail.com', True]\n",
      "-----------------------------------------------------\n",
      "[101, 'Sara', 'Male', 25, 'sara@gmail.com', True]\n"
     ]
    }
   ],
   "source": [
    "details = [101, 'Sara', 25, 'sara@gmail.com', True]\n",
    "\n",
    "print(details)\n",
    "\n",
    "print('-----------------------------------------------------')\n",
    "\n",
    "details.insert(2, 'Male')\n",
    "\n",
    "print(details)"
   ]
  },
  {
   "cell_type": "code",
   "execution_count": 13,
   "id": "0d917b15-4fbc-49ef-baac-56245d39b84e",
   "metadata": {},
   "outputs": [
    {
     "name": "stdout",
     "output_type": "stream",
     "text": [
      "[101, 'Sara', 25, 'sara@gmail.com', True]\n",
      "-----------------------------------------------------\n",
      "[101, 'Thara', 25, 'sara@gmail.com', True]\n"
     ]
    }
   ],
   "source": [
    "details = [101, 'Sara', 25, 'sara@gmail.com', True]\n",
    "\n",
    "print(details)\n",
    "\n",
    "print('-----------------------------------------------------')\n",
    "\n",
    "details[1] = 'Thara'\n",
    "\n",
    "print(details)"
   ]
  },
  {
   "cell_type": "code",
   "execution_count": null,
   "id": "85c9d2b2-d80f-4e34-9ab4-f5c11dd151c5",
   "metadata": {},
   "outputs": [],
   "source": []
  }
 ],
 "metadata": {
  "kernelspec": {
   "display_name": "Python 3 (ipykernel)",
   "language": "python",
   "name": "python3"
  },
  "language_info": {
   "codemirror_mode": {
    "name": "ipython",
    "version": 3
   },
   "file_extension": ".py",
   "mimetype": "text/x-python",
   "name": "python",
   "nbconvert_exporter": "python",
   "pygments_lexer": "ipython3",
   "version": "3.13.2"
  }
 },
 "nbformat": 4,
 "nbformat_minor": 5
}
