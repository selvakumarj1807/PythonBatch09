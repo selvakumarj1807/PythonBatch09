{
 "cells": [
  {
   "cell_type": "markdown",
   "id": "f7479cfa-a7e2-4d4b-b6dd-a52fd4437f90",
   "metadata": {},
   "source": [
    "Tuple:\n",
    "------\n",
    "1. Tuple is Collection of Data Type\n",
    "2. Can Store n number of values and can differen data type values in a single variable.\n",
    "3. Declare ().\n",
    "4. Tuple Store the values - Index based\n",
    "5. Tuple are Immutable"
   ]
  },
  {
   "cell_type": "code",
   "execution_count": 1,
   "id": "9a2c98e4-f611-430b-af81-4c280f2a4e83",
   "metadata": {},
   "outputs": [
    {
     "name": "stdout",
     "output_type": "stream",
     "text": [
      "(101, 'Sara', 97.5, True) <class 'tuple'>\n"
     ]
    }
   ],
   "source": [
    "details = (101, 'Sara', 97.5, True)\n",
    "\n",
    "print(details, type(details))"
   ]
  },
  {
   "cell_type": "code",
   "execution_count": 3,
   "id": "31e41b85-313a-4a79-ac3e-00b14e0572ba",
   "metadata": {},
   "outputs": [
    {
     "name": "stdout",
     "output_type": "stream",
     "text": [
      "Sara\n",
      "--------------------------------------------\n"
     ]
    },
    {
     "ename": "TypeError",
     "evalue": "'tuple' object does not support item assignment",
     "output_type": "error",
     "traceback": [
      "\u001b[31m---------------------------------------------------------------------------\u001b[39m",
      "\u001b[31mTypeError\u001b[39m                                 Traceback (most recent call last)",
      "\u001b[36mCell\u001b[39m\u001b[36m \u001b[39m\u001b[32mIn[3]\u001b[39m\u001b[32m, line 5\u001b[39m\n\u001b[32m      1\u001b[39m \u001b[38;5;28mprint\u001b[39m(details[\u001b[32m1\u001b[39m])\n\u001b[32m      3\u001b[39m \u001b[38;5;28mprint\u001b[39m(\u001b[33m'\u001b[39m\u001b[33m--------------------------------------------\u001b[39m\u001b[33m'\u001b[39m)\n\u001b[32m----> \u001b[39m\u001b[32m5\u001b[39m \u001b[43mdetails\u001b[49m\u001b[43m[\u001b[49m\u001b[32;43m1\u001b[39;49m\u001b[43m]\u001b[49m = \u001b[32m10\u001b[39m\n\u001b[32m      7\u001b[39m \u001b[38;5;28mprint\u001b[39m(details[\u001b[32m1\u001b[39m])\n",
      "\u001b[31mTypeError\u001b[39m: 'tuple' object does not support item assignment"
     ]
    }
   ],
   "source": [
    "print(details[1])\n",
    "\n",
    "print('--------------------------------------------')\n",
    "\n",
    "# immutable\n",
    "\n",
    "details[1] = 10\n",
    "\n",
    "print(details[1])"
   ]
  },
  {
   "cell_type": "code",
   "execution_count": 4,
   "id": "21dddbfd-f4a1-4c64-a55a-bb8d0e8e8db4",
   "metadata": {},
   "outputs": [
    {
     "name": "stdout",
     "output_type": "stream",
     "text": [
      "(101, 'Sara', 97.5, True) <class 'tuple'>\n",
      "----------------------------------------\n",
      "101\n",
      "Sara\n",
      "97.5\n",
      "True\n"
     ]
    }
   ],
   "source": [
    "details = (101, 'Sara', 97.5, True)\n",
    "\n",
    "print(details, type(details))\n",
    "\n",
    "print('----------------------------------------')\n",
    "\n",
    "for i in details:\n",
    "    print(i)"
   ]
  },
  {
   "cell_type": "markdown",
   "id": "7e8871c3-f214-432e-be3e-cd7e2350bed4",
   "metadata": {},
   "source": [
    "# Type Casting:\n",
    "---------------"
   ]
  },
  {
   "cell_type": "code",
   "execution_count": 6,
   "id": "2c5bdec1-7379-4f6e-88e4-903abc12b082",
   "metadata": {},
   "outputs": [
    {
     "name": "stdout",
     "output_type": "stream",
     "text": [
      "10 <class 'int'>\n",
      "10.5 <class 'float'>\n",
      "----------------------------------------\n",
      "10.0\n",
      "10\n"
     ]
    }
   ],
   "source": [
    "a = 10\n",
    "\n",
    "b = 10.5\n",
    "\n",
    "print(a, type(a))\n",
    "\n",
    "print(b, type(b))\n",
    "\n",
    "print('----------------------------------------')\n",
    "\n",
    "print(float(a))\n",
    "\n",
    "print(int(b))"
   ]
  },
  {
   "cell_type": "code",
   "execution_count": 8,
   "id": "b832485c-796a-406e-ad11-9083edf3b9f7",
   "metadata": {},
   "outputs": [
    {
     "name": "stdout",
     "output_type": "stream",
     "text": [
      "(101, 'Sara', 97.5, True) <class 'tuple'>\n",
      "----------------------------\n",
      "[101, 'Sara', 97.5, True] <class 'list'>\n",
      "----------------------------\n",
      "(101, 'Sara', 97.5, True) <class 'tuple'>\n"
     ]
    }
   ],
   "source": [
    "details = (101, 'Sara', 97.5, True)\n",
    "\n",
    "print(details, type(details))\n",
    "\n",
    "print('----------------------------')\n",
    "\n",
    "details = list(details)\n",
    "\n",
    "print(details, type(details))\n",
    "\n",
    "print('----------------------------')\n",
    "\n",
    "details = tuple(details)\n",
    "\n",
    "print(details, type(details))"
   ]
  },
  {
   "cell_type": "code",
   "execution_count": null,
   "id": "417861d3-f314-48c6-bc12-a489561b34e4",
   "metadata": {},
   "outputs": [],
   "source": []
  }
 ],
 "metadata": {
  "kernelspec": {
   "display_name": "Python 3 (ipykernel)",
   "language": "python",
   "name": "python3"
  },
  "language_info": {
   "codemirror_mode": {
    "name": "ipython",
    "version": 3
   },
   "file_extension": ".py",
   "mimetype": "text/x-python",
   "name": "python",
   "nbconvert_exporter": "python",
   "pygments_lexer": "ipython3",
   "version": "3.13.2"
  }
 },
 "nbformat": 4,
 "nbformat_minor": 5
}
