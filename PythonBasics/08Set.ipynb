{
 "cells": [
  {
   "cell_type": "markdown",
   "id": "2d319f30-d4f0-4c09-91b9-9f2e1a2c68a3",
   "metadata": {},
   "source": [
    "Set:\n",
    "----\n",
    "\n",
    "1. Set is Collection of Data Type\n",
    "2. Can Store n number of values and can differen data type values in a single variable.\n",
    "3. Declare {}.\n",
    "4. Set Store the values - non Index based\n",
    "5. Set are Mutable\n",
    "6. Set can remove douplicate values"
   ]
  },
  {
   "cell_type": "code",
   "execution_count": 1,
   "id": "1de8cac7-a53f-4f6d-9e57-df8cea3924e2",
   "metadata": {},
   "outputs": [
    {
     "name": "stdout",
     "output_type": "stream",
     "text": [
      "{True, 98.5, 'Male', 101, 'sara'} <class 'set'>\n"
     ]
    }
   ],
   "source": [
    "details = {101, 'sara', True, 98.5, 101, 'sara', 'Male'}\n",
    "\n",
    "print(details, type(details))"
   ]
  },
  {
   "cell_type": "code",
   "execution_count": 2,
   "id": "dc36b632-a90b-4de7-a56f-dc1dc09e7b95",
   "metadata": {},
   "outputs": [
    {
     "name": "stdout",
     "output_type": "stream",
     "text": [
      "{True, 98.5, 'Male', 101, 'sara'} <class 'set'>\n"
     ]
    },
    {
     "ename": "TypeError",
     "evalue": "'set' object is not subscriptable",
     "output_type": "error",
     "traceback": [
      "\u001b[31m---------------------------------------------------------------------------\u001b[39m",
      "\u001b[31mTypeError\u001b[39m                                 Traceback (most recent call last)",
      "\u001b[36mCell\u001b[39m\u001b[36m \u001b[39m\u001b[32mIn[2]\u001b[39m\u001b[32m, line 7\u001b[39m\n\u001b[32m      3\u001b[39m details = {\u001b[32m101\u001b[39m, \u001b[33m'\u001b[39m\u001b[33msara\u001b[39m\u001b[33m'\u001b[39m, \u001b[38;5;28;01mTrue\u001b[39;00m, \u001b[32m98.5\u001b[39m, \u001b[32m101\u001b[39m, \u001b[33m'\u001b[39m\u001b[33msara\u001b[39m\u001b[33m'\u001b[39m, \u001b[33m'\u001b[39m\u001b[33mMale\u001b[39m\u001b[33m'\u001b[39m}\n\u001b[32m      5\u001b[39m \u001b[38;5;28mprint\u001b[39m(details, \u001b[38;5;28mtype\u001b[39m(details))\n\u001b[32m----> \u001b[39m\u001b[32m7\u001b[39m \u001b[38;5;28mprint\u001b[39m(\u001b[43mdetails\u001b[49m\u001b[43m[\u001b[49m\u001b[32;43m0\u001b[39;49m\u001b[43m]\u001b[49m)\n",
      "\u001b[31mTypeError\u001b[39m: 'set' object is not subscriptable"
     ]
    }
   ],
   "source": [
    "# Set vaues can be store non index based\n",
    "\n",
    "details = {101, 'sara', True, 98.5, 101, 'sara', 'Male'}\n",
    "\n",
    "print(details, type(details))\n",
    "\n",
    "print(details[0])"
   ]
  },
  {
   "cell_type": "markdown",
   "id": "fb399749-2cab-4893-bb19-1b453aef98f4",
   "metadata": {},
   "source": [
    "# add & update \n",
    "--------------"
   ]
  },
  {
   "cell_type": "code",
   "execution_count": 6,
   "id": "76d1e9d0-0f20-4fd3-b694-b71ceaf586fe",
   "metadata": {},
   "outputs": [
    {
     "name": "stdout",
     "output_type": "stream",
     "text": [
      "{89.5, 10, 'Sara'}\n",
      "{89.5, 10, 'Sara', 'Male'}\n",
      "----------------------------------------\n",
      "{9500912258, 10, 'TN', 'Male', 'Sara', 89.5}\n"
     ]
    }
   ],
   "source": [
    "details01 = {10, 'Sara', 89.5}\n",
    "\n",
    "print(details01)\n",
    "\n",
    "details01.add('Male')\n",
    "\n",
    "print(details01)\n",
    "\n",
    "print('----------------------------------------')\n",
    "\n",
    "details01 = {10, 'Sara', 89.5}\n",
    "\n",
    "details02 = {10, 'Sara', 89.5, 'Male', 'TN', 9500912258}\n",
    "\n",
    "details01.update(details02)\n",
    "\n",
    "print(details01)"
   ]
  },
  {
   "cell_type": "markdown",
   "id": "4e7f2ccb-5402-4bc8-b185-daaf51fb80ff",
   "metadata": {},
   "source": [
    "# discard & Remove\n",
    "------------------"
   ]
  },
  {
   "cell_type": "code",
   "execution_count": 8,
   "id": "7332e5e9-f5d8-477a-a02b-4dad67fc1587",
   "metadata": {},
   "outputs": [
    {
     "name": "stdout",
     "output_type": "stream",
     "text": [
      "{89.5, 'Sara'}\n",
      "------------------------------\n"
     ]
    },
    {
     "ename": "KeyError",
     "evalue": "101",
     "output_type": "error",
     "traceback": [
      "\u001b[31m---------------------------------------------------------------------------\u001b[39m",
      "\u001b[31mKeyError\u001b[39m                                  Traceback (most recent call last)",
      "\u001b[36mCell\u001b[39m\u001b[36m \u001b[39m\u001b[32mIn[8]\u001b[39m\u001b[32m, line 15\u001b[39m\n\u001b[32m     11\u001b[39m details01 = {\u001b[32m10\u001b[39m, \u001b[33m'\u001b[39m\u001b[33mSara\u001b[39m\u001b[33m'\u001b[39m, \u001b[32m89.5\u001b[39m}\n\u001b[32m     13\u001b[39m details01.remove(\u001b[32m10\u001b[39m)\n\u001b[32m---> \u001b[39m\u001b[32m15\u001b[39m \u001b[43mdetails01\u001b[49m\u001b[43m.\u001b[49m\u001b[43mremove\u001b[49m\u001b[43m(\u001b[49m\u001b[32;43m101\u001b[39;49m\u001b[43m)\u001b[49m\n\u001b[32m     17\u001b[39m \u001b[38;5;28mprint\u001b[39m(details01)\n",
      "\u001b[31mKeyError\u001b[39m: 101"
     ]
    }
   ],
   "source": [
    "details01 = {10, 'Sara', 89.5}\n",
    "\n",
    "details01.discard(10)\n",
    "\n",
    "details01.discard(101)\n",
    "\n",
    "print(details01)\n",
    "\n",
    "print('------------------------------')\n",
    "\n",
    "details01 = {10, 'Sara', 89.5}\n",
    "\n",
    "details01.remove(10)\n",
    "\n",
    "details01.remove(101)\n",
    "\n",
    "print(details01)"
   ]
  },
  {
   "cell_type": "markdown",
   "id": "e8308934-3bbf-43b5-9554-a8e0c402e654",
   "metadata": {},
   "source": [
    "Union, Intersect, Minus:\n",
    "------------------------"
   ]
  },
  {
   "cell_type": "code",
   "execution_count": 14,
   "id": "e4eeb963-ce2f-414a-8505-6aef4008b085",
   "metadata": {},
   "outputs": [
    {
     "name": "stdout",
     "output_type": "stream",
     "text": [
      "---------------------------------------\n",
      "{1, 2, 3, 4, 5, 6, 7, 8}\n",
      "---------------------------------------\n",
      "{1, 2, 4, 5}\n",
      "---------------------------------------\n",
      "{3, 6, 7, 8}\n"
     ]
    }
   ],
   "source": [
    "a = {1, 2, 3, 4, 5, 1, 2, 3}\n",
    "\n",
    "b = {4, 5, 1, 2, 6, 7, 8}\n",
    "\n",
    "print('---------------------------------------')\n",
    "\n",
    "print(a.union(b))\n",
    "\n",
    "print('---------------------------------------')\n",
    "\n",
    "print(a.intersection(b)) # common values\n",
    "\n",
    "print('---------------------------------------')\n",
    "\n",
    "print(a.symmetric_difference(b)) # Remaining values"
   ]
  },
  {
   "cell_type": "code",
   "execution_count": null,
   "id": "2c3a7c06-88e7-41fd-b1b8-8de5a1f4d635",
   "metadata": {},
   "outputs": [],
   "source": []
  }
 ],
 "metadata": {
  "kernelspec": {
   "display_name": "Python 3 (ipykernel)",
   "language": "python",
   "name": "python3"
  },
  "language_info": {
   "codemirror_mode": {
    "name": "ipython",
    "version": 3
   },
   "file_extension": ".py",
   "mimetype": "text/x-python",
   "name": "python",
   "nbconvert_exporter": "python",
   "pygments_lexer": "ipython3",
   "version": "3.13.2"
  }
 },
 "nbformat": 4,
 "nbformat_minor": 5
}
