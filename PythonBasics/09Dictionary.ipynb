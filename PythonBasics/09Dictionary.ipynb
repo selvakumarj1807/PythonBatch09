{
 "cells": [
  {
   "cell_type": "markdown",
   "id": "fe1c7348-1a86-418d-9d58-55f754319214",
   "metadata": {},
   "source": [
    "Dictionary:\n",
    "-----------\n",
    "\n",
    "1. Dictionry is Collection of Data Type\n",
    "2. Can Store n number of values and can differen data type values in a single variable.\n",
    "3. Declare {'Key': 'Value'}.\n",
    "4. Dictionry Store the values - non Index based\n",
    "5. Dictionry are Mutable\n",
    "6. Dictionry can remove douplicate values"
   ]
  },
  {
   "cell_type": "code",
   "execution_count": 4,
   "id": "e76c1797-5304-4660-baaa-2e97736bb940",
   "metadata": {},
   "outputs": [
    {
     "name": "stdout",
     "output_type": "stream",
     "text": [
      "{'name': 'Sara', 'age': 27, 'gender': 'Male'} <class 'dict'>\n",
      "-----------------------------------------------------\n",
      "Sara\n",
      "{'name': 'Admin', 'age': 27, 'gender': 'Male'}\n"
     ]
    }
   ],
   "source": [
    "details = {'name': 'Sara', 'age': 27, 'gender': 'Male'}\n",
    "\n",
    "print(details, type(details))\n",
    "\n",
    "print('-----------------------------------------------------')\n",
    "\n",
    "print(details['name'])\n",
    "\n",
    "details['name'] = 'Admin'\n",
    "\n",
    "print(details)"
   ]
  },
  {
   "cell_type": "markdown",
   "id": "b1f638ab-c171-48b0-8009-f512eff33fa7",
   "metadata": {},
   "source": [
    "update & pop\n",
    "------------"
   ]
  },
  {
   "cell_type": "code",
   "execution_count": 7,
   "id": "7133c96c-ef50-4efd-87b4-c5036e238e5f",
   "metadata": {},
   "outputs": [
    {
     "name": "stdout",
     "output_type": "stream",
     "text": [
      "{'name': 'Sara', 'age': 27, 'gender': 'Male'} <class 'dict'>\n",
      "-----------------------------------------------------\n",
      "{'name': 'Sara', 'age': 27, 'gender': 'Male', 'mobile': 9500912258, 'City': 'Chennai'}\n",
      "-----------------------------------------------------\n",
      "{'name': 'Sara', 'age': 27, 'gender': 'Male', 'mobile': 9500912258, 'City': 'Chennai'}\n",
      "{'age': 27, 'gender': 'Male', 'mobile': 9500912258, 'City': 'Chennai'}\n"
     ]
    }
   ],
   "source": [
    "details = {'name': 'Sara', 'age': 27, 'gender': 'Male'}\n",
    "\n",
    "print(details, type(details))\n",
    "\n",
    "print('-----------------------------------------------------')\n",
    "\n",
    "details.update({'mobile': 9500912258, 'City': 'Chennai'})\n",
    "\n",
    "print(details)\n",
    "\n",
    "print('-----------------------------------------------------')\n",
    "\n",
    "print(details)\n",
    "\n",
    "details.pop('name')\n",
    "\n",
    "print(details)"
   ]
  },
  {
   "cell_type": "code",
   "execution_count": null,
   "id": "60e368dc-a594-4dcd-b807-a5e915dc33da",
   "metadata": {},
   "outputs": [],
   "source": []
  }
 ],
 "metadata": {
  "kernelspec": {
   "display_name": "Python 3 (ipykernel)",
   "language": "python",
   "name": "python3"
  },
  "language_info": {
   "codemirror_mode": {
    "name": "ipython",
    "version": 3
   },
   "file_extension": ".py",
   "mimetype": "text/x-python",
   "name": "python",
   "nbconvert_exporter": "python",
   "pygments_lexer": "ipython3",
   "version": "3.13.2"
  }
 },
 "nbformat": 4,
 "nbformat_minor": 5
}
