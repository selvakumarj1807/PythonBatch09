{
 "cells": [
  {
   "cell_type": "markdown",
   "id": "9df9f2e5-2ec1-4f88-94d4-0b61e879c155",
   "metadata": {},
   "source": [
    "Python Exception Handling or Error Handling:\n",
    "--------------------------------------------"
   ]
  },
  {
   "cell_type": "code",
   "execution_count": 4,
   "id": "71882004-99a8-465b-a136-1c08de10df7e",
   "metadata": {},
   "outputs": [
    {
     "name": "stdout",
     "output_type": "stream",
     "text": [
      "Dinominator cannot be zero\n"
     ]
    }
   ],
   "source": [
    "try:\n",
    "    a = 10\n",
    "    b = 0\n",
    "\n",
    "    print(a / b)\n",
    "\n",
    "except:\n",
    "    print('Dinominator cannot be zero')"
   ]
  },
  {
   "cell_type": "code",
   "execution_count": 5,
   "id": "39f06e50-e929-495b-ad4c-3fd4a7edefbc",
   "metadata": {},
   "outputs": [
    {
     "name": "stdout",
     "output_type": "stream",
     "text": [
      "division by zero\n",
      "Dinominator cannot be zero\n"
     ]
    }
   ],
   "source": [
    "try:\n",
    "    a = 10\n",
    "    b = 0\n",
    "\n",
    "    print(a / b)\n",
    "\n",
    "except Exception as e:\n",
    "    print(e)\n",
    "    print('Dinominator cannot be zero')"
   ]
  },
  {
   "cell_type": "code",
   "execution_count": 7,
   "id": "79d8b077-4770-4eea-b95b-d135500cb9d8",
   "metadata": {},
   "outputs": [
    {
     "name": "stdout",
     "output_type": "stream",
     "text": [
      "5.0\n"
     ]
    }
   ],
   "source": [
    "try:\n",
    "    a = 10\n",
    "    b = 2\n",
    "\n",
    "    c = a / b\n",
    "\n",
    "except Exception as e:\n",
    "    print(e)\n",
    "    print('Dinominator cannot be zero')\n",
    "\n",
    "else:\n",
    "    print(c)"
   ]
  },
  {
   "cell_type": "code",
   "execution_count": 8,
   "id": "7ad70e57-7de8-418a-9026-b670ee4a4377",
   "metadata": {},
   "outputs": [
    {
     "name": "stdout",
     "output_type": "stream",
     "text": [
      "division by zero\n",
      "Dinominator cannot be zero\n"
     ]
    }
   ],
   "source": [
    "try:\n",
    "    a = 10\n",
    "    b = 0\n",
    "\n",
    "    c = a / b\n",
    "\n",
    "except Exception as e:\n",
    "    print(e)\n",
    "    print('Dinominator cannot be zero')\n",
    "\n",
    "else:\n",
    "    print(c)"
   ]
  },
  {
   "cell_type": "code",
   "execution_count": 9,
   "id": "f8573528-963d-45df-9cf9-377e3e39cc52",
   "metadata": {},
   "outputs": [
    {
     "name": "stdout",
     "output_type": "stream",
     "text": [
      "division by zero\n",
      "Dinominator cannot be zero\n",
      "Programm run successfully!..\n"
     ]
    }
   ],
   "source": [
    "try:\n",
    "    a = 10\n",
    "    b = 0\n",
    "\n",
    "    c = a / b\n",
    "\n",
    "except Exception as e:\n",
    "    print(e)\n",
    "    print('Dinominator cannot be zero')\n",
    "\n",
    "else:\n",
    "    print(c)\n",
    "\n",
    "finally:\n",
    "    print('Programm run successfully!..')"
   ]
  },
  {
   "cell_type": "code",
   "execution_count": 10,
   "id": "c57a6b18-a751-4952-804b-7b22231d9e87",
   "metadata": {},
   "outputs": [
    {
     "name": "stdout",
     "output_type": "stream",
     "text": [
      "5.0\n",
      "Programm run successfully!..\n"
     ]
    }
   ],
   "source": [
    "try:\n",
    "    a = 10\n",
    "    b = 2\n",
    "\n",
    "    c = a / b\n",
    "\n",
    "except Exception as e:\n",
    "    print(e)\n",
    "    print('Dinominator cannot be zero')\n",
    "\n",
    "else:\n",
    "    print(c)\n",
    "\n",
    "finally:\n",
    "    print('Programm run successfully!..')"
   ]
  },
  {
   "cell_type": "code",
   "execution_count": 20,
   "id": "d78e9006-d168-46d3-b697-b7e4b9b1d25f",
   "metadata": {},
   "outputs": [
    {
     "name": "stdin",
     "output_type": "stream",
     "text": [
      "Enter your age :  as\n"
     ]
    },
    {
     "name": "stdout",
     "output_type": "stream",
     "text": [
      "invalid literal for int() with base 10: 'as'\n",
      "Enter Numeric Value Only!..\n"
     ]
    },
    {
     "name": "stdin",
     "output_type": "stream",
     "text": [
      "Enter your age :  22\n"
     ]
    },
    {
     "name": "stdout",
     "output_type": "stream",
     "text": [
      "22\n"
     ]
    }
   ],
   "source": [
    "try:\n",
    "    age = int(input('Enter your age : '))\n",
    "\n",
    "    print(age)\n",
    "\n",
    "except Exception as e:\n",
    "    print(e)\n",
    "\n",
    "    print('Enter Numeric Value Only!..')\n",
    "\n",
    "    age = int(input('Enter your age : '))\n",
    "\n",
    "    print(age)"
   ]
  },
  {
   "cell_type": "code",
   "execution_count": 18,
   "id": "54a25cb6-4e4c-4883-9a09-ca806ee45a6d",
   "metadata": {},
   "outputs": [
    {
     "name": "stdout",
     "output_type": "stream",
     "text": [
      "name 'gender' is not defined\n"
     ]
    }
   ],
   "source": [
    "try:\n",
    "    print(gender)\n",
    "    \n",
    "except Exception as e:\n",
    "    print(e)"
   ]
  },
  {
   "cell_type": "markdown",
   "id": "016f33b1-caa1-405c-9937-919a9dee9ba9",
   "metadata": {},
   "source": [
    "Types of Error:\n",
    "---------------"
   ]
  },
  {
   "cell_type": "code",
   "execution_count": 24,
   "id": "d5611abe-8f4e-4a40-876c-ec453a85ada9",
   "metadata": {},
   "outputs": [
    {
     "name": "stdout",
     "output_type": "stream",
     "text": [
      "['ArithmeticError', 'AssertionError', 'AttributeError', 'BaseException', 'BaseExceptionGroup', 'BlockingIOError', 'BrokenPipeError', 'BufferError', 'BytesWarning', 'ChildProcessError', 'ConnectionAbortedError', 'ConnectionError', 'ConnectionRefusedError', 'ConnectionResetError', 'DeprecationWarning', 'EOFError', 'Ellipsis', 'EncodingWarning', 'EnvironmentError', 'Exception', 'ExceptionGroup', 'False', 'FileExistsError', 'FileNotFoundError', 'FloatingPointError', 'FutureWarning', 'GeneratorExit', 'IOError', 'ImportError', 'ImportWarning', 'IndentationError', 'IndexError', 'InterruptedError', 'IsADirectoryError', 'KeyError', 'KeyboardInterrupt', 'LookupError', 'MemoryError', 'ModuleNotFoundError', 'NameError', 'None', 'NotADirectoryError', 'NotImplemented', 'NotImplementedError', 'OSError', 'OverflowError', 'PendingDeprecationWarning', 'PermissionError', 'ProcessLookupError', 'PythonFinalizationError', 'RecursionError', 'ReferenceError', 'ResourceWarning', 'RuntimeError', 'RuntimeWarning', 'StopAsyncIteration', 'StopIteration', 'SyntaxError', 'SyntaxWarning', 'SystemError', 'SystemExit', 'TabError', 'TimeoutError', 'True', 'TypeError', 'UnboundLocalError', 'UnicodeDecodeError', 'UnicodeEncodeError', 'UnicodeError', 'UnicodeTranslateError', 'UnicodeWarning', 'UserWarning', 'ValueError', 'Warning', 'WindowsError', 'ZeroDivisionError', '_IncompleteInputError', '__IPYTHON__', '__build_class__', '__debug__', '__doc__', '__import__', '__loader__', '__name__', '__package__', '__spec__', 'abs', 'aiter', 'all', 'anext', 'any', 'ascii', 'bin', 'bool', 'breakpoint', 'bytearray', 'bytes', 'callable', 'chr', 'classmethod', 'compile', 'complex', 'copyright', 'credits', 'delattr', 'dict', 'dir', 'display', 'divmod', 'enumerate', 'eval', 'exec', 'execfile', 'filter', 'float', 'format', 'frozenset', 'get_ipython', 'getattr', 'globals', 'hasattr', 'hash', 'help', 'hex', 'id', 'input', 'int', 'isinstance', 'issubclass', 'iter', 'len', 'license', 'list', 'locals', 'map', 'max', 'memoryview', 'min', 'next', 'object', 'oct', 'open', 'ord', 'pow', 'print', 'property', 'range', 'repr', 'reversed', 'round', 'runfile', 'set', 'setattr', 'slice', 'sorted', 'staticmethod', 'str', 'sum', 'super', 'tuple', 'type', 'vars', 'zip']\n",
      "-----------------------------------------------------------\n",
      "163\n"
     ]
    }
   ],
   "source": [
    "print(dir(locals()['__builtins__']))\n",
    "\n",
    "print('-----------------------------------------------------------')\n",
    "\n",
    "print(len(dir(locals()['__builtins__'])))"
   ]
  },
  {
   "cell_type": "code",
   "execution_count": null,
   "id": "f941de9a-88ce-4894-89ee-c6e66a26cb0c",
   "metadata": {},
   "outputs": [],
   "source": []
  },
  {
   "cell_type": "code",
   "execution_count": null,
   "id": "56654531-d533-4d00-b54e-14242c079290",
   "metadata": {},
   "outputs": [],
   "source": []
  }
 ],
 "metadata": {
  "kernelspec": {
   "display_name": "Python 3 (ipykernel)",
   "language": "python",
   "name": "python3"
  },
  "language_info": {
   "codemirror_mode": {
    "name": "ipython",
    "version": 3
   },
   "file_extension": ".py",
   "mimetype": "text/x-python",
   "name": "python",
   "nbconvert_exporter": "python",
   "pygments_lexer": "ipython3",
   "version": "3.13.2"
  }
 },
 "nbformat": 4,
 "nbformat_minor": 5
}
