{
 "cells": [
  {
   "cell_type": "markdown",
   "id": "9a8c09fd-7d29-43b7-8e4f-87e9f7793d6a",
   "metadata": {},
   "source": [
    "# 1. DateTime Module\n",
    "--------------------"
   ]
  },
  {
   "cell_type": "code",
   "execution_count": 5,
   "id": "401c7397-6933-4c1d-a4ba-b354f69e603f",
   "metadata": {},
   "outputs": [],
   "source": [
    "import datetime as dt"
   ]
  },
  {
   "cell_type": "code",
   "execution_count": 7,
   "id": "e034dfdd-c5e4-48cc-af9b-20a9baa52c10",
   "metadata": {},
   "outputs": [
    {
     "name": "stdout",
     "output_type": "stream",
     "text": [
      "2025-10-07\n"
     ]
    }
   ],
   "source": [
    "# To Find System Date\n",
    "\n",
    "currentDate = dt.date.today()\n",
    "\n",
    "print(currentDate)"
   ]
  },
  {
   "cell_type": "code",
   "execution_count": 8,
   "id": "49515eef-31c9-4c85-803b-2b5a80f5a1af",
   "metadata": {},
   "outputs": [
    {
     "name": "stdout",
     "output_type": "stream",
     "text": [
      "2025-10-07 11:29:47.358150\n"
     ]
    }
   ],
   "source": [
    "# To Find System Date & Time\n",
    "\n",
    "currentDateTime = dt.datetime.now()\n",
    "\n",
    "print(currentDateTime)"
   ]
  },
  {
   "cell_type": "markdown",
   "id": "4a227eba-2d9b-444f-8837-98b45a40c453",
   "metadata": {},
   "source": [
    "Change the Date Time Format:\n",
    "----------------------------"
   ]
  },
  {
   "cell_type": "code",
   "execution_count": 10,
   "id": "858a6e91-a4bd-436b-ab46-cf3b5230e755",
   "metadata": {},
   "outputs": [
    {
     "name": "stdout",
     "output_type": "stream",
     "text": [
      "2025-10-07 11:32:08.677922\n",
      "-----------------------------------------------------\n",
      "Tuesday : October : 07 - 2025\n",
      "07 / Oct / 2025\n"
     ]
    }
   ],
   "source": [
    "currentDateTime = dt.datetime.now()\n",
    "\n",
    "print(currentDateTime)\n",
    "\n",
    "print('-----------------------------------------------------')\n",
    "\n",
    "format01 = currentDateTime.strftime('%A : %B : %d - %Y')\n",
    "\n",
    "print(format01)\n",
    "\n",
    "format02 = currentDateTime.strftime('%d / %b / %Y')\n",
    "\n",
    "print(format02)"
   ]
  },
  {
   "cell_type": "code",
   "execution_count": 11,
   "id": "77bcc9f8-f0c3-4db9-8ab7-9afebcb49904",
   "metadata": {},
   "outputs": [
    {
     "name": "stdout",
     "output_type": "stream",
     "text": [
      "2025-10-07 11:33:13.714872\n",
      "-----------------------------------------------------\n",
      "Tuesday : October : 07 - 2025\n",
      "07 / 10 / 2025\n",
      "11:33:13\n"
     ]
    }
   ],
   "source": [
    "import datetime as dt\n",
    "\n",
    "currentDateTime = dt.datetime.now()\n",
    "\n",
    "print(currentDateTime)\n",
    "print('-----------------------------------------------------')\n",
    "\n",
    "# Format 1: Full weekday, month, date, year\n",
    "format01 = currentDateTime.strftime('%A : %B : %d - %Y')\n",
    "print(format01)\n",
    "\n",
    "# Format 2: Day / Month / Year (numeric)\n",
    "format02 = currentDateTime.strftime('%d / %m / %Y')\n",
    "print(format02)\n",
    "\n",
    "# Format 3: Time in HH:MM:SS format\n",
    "format03 = currentDateTime.strftime('%H:%M:%S')\n",
    "print(format03)\n"
   ]
  },
  {
   "cell_type": "code",
   "execution_count": 12,
   "id": "02c04b6e-bb16-4973-825f-6b92606523bd",
   "metadata": {},
   "outputs": [
    {
     "name": "stdout",
     "output_type": "stream",
     "text": [
      "2025-10-07 11:33:53.109960\n",
      "-----------------------------------------------------\n",
      "Tuesday : October : 07 - 2025\n",
      "07 / 10 / 2025\n",
      "11:33:53 AM\n"
     ]
    }
   ],
   "source": [
    "import datetime as dt\n",
    "\n",
    "currentDateTime = dt.datetime.now()\n",
    "\n",
    "print(currentDateTime)\n",
    "print('-----------------------------------------------------')\n",
    "\n",
    "# Format 1: Full weekday, month, date, year\n",
    "format01 = currentDateTime.strftime('%A : %B : %d - %Y')\n",
    "print(format01)\n",
    "\n",
    "# Format 2: Day / Month / Year (numeric)\n",
    "format02 = currentDateTime.strftime('%d / %m / %Y')\n",
    "print(format02)\n",
    "\n",
    "# Format 3: Time in 12-hour format with AM/PM\n",
    "format03 = currentDateTime.strftime('%I:%M:%S %p')\n",
    "print(format03)\n"
   ]
  },
  {
   "cell_type": "code",
   "execution_count": null,
   "id": "29f40fb2-1ef5-4707-9b76-3c037c9f33f6",
   "metadata": {},
   "outputs": [],
   "source": [
    "\n",
    "'''\n",
    "ToDay Work\n",
    "\n",
    "To Find the number of Days, number of Months, number of Year for given dates\n",
    "sysdate, 12/12/2023\n",
    "\n",
    "'''"
   ]
  },
  {
   "cell_type": "markdown",
   "id": "67aca0a0-75d7-4ef5-9ba7-ecd783a43b15",
   "metadata": {},
   "source": [
    "# 2. Random Module:\n",
    "-------------------"
   ]
  },
  {
   "cell_type": "code",
   "execution_count": 15,
   "id": "a3cf61b5-bfba-4906-91a2-7eb53917aac8",
   "metadata": {},
   "outputs": [],
   "source": [
    "import random"
   ]
  },
  {
   "cell_type": "code",
   "execution_count": 19,
   "id": "bbfdcc91-ebaf-42f4-ae95-a6562bf38b03",
   "metadata": {},
   "outputs": [
    {
     "name": "stdout",
     "output_type": "stream",
     "text": [
      "5\n"
     ]
    }
   ],
   "source": [
    "x = random.randint(1, 10)\n",
    "\n",
    "print(x)"
   ]
  },
  {
   "cell_type": "code",
   "execution_count": 22,
   "id": "8d4f82fd-590c-47c9-9ae0-9c3e18c2ab09",
   "metadata": {},
   "outputs": [
    {
     "name": "stdout",
     "output_type": "stream",
     "text": [
      "MA\n"
     ]
    }
   ],
   "source": [
    "departmentName = ['BA', 'BSc', 'MA', 'MSc', 'BCA', 'MCA']\n",
    "\n",
    "print(random.choice(departmentName))"
   ]
  },
  {
   "cell_type": "code",
   "execution_count": null,
   "id": "2d369029-d227-4b76-9180-fa7428385fd1",
   "metadata": {},
   "outputs": [],
   "source": []
  }
 ],
 "metadata": {
  "kernelspec": {
   "display_name": "Python 3 (ipykernel)",
   "language": "python",
   "name": "python3"
  },
  "language_info": {
   "codemirror_mode": {
    "name": "ipython",
    "version": 3
   },
   "file_extension": ".py",
   "mimetype": "text/x-python",
   "name": "python",
   "nbconvert_exporter": "python",
   "pygments_lexer": "ipython3",
   "version": "3.13.2"
  }
 },
 "nbformat": 4,
 "nbformat_minor": 5
}
