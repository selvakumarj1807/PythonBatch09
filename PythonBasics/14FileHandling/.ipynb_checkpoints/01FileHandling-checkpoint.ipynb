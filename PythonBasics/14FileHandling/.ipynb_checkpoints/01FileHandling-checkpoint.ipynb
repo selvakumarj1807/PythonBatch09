{
 "cells": [
  {
   "cell_type": "markdown",
   "id": "75851b3d-9e75-4f5f-87ad-00df7da5f916",
   "metadata": {},
   "source": [
    "Python File Handling:\n",
    "---------------------"
   ]
  },
  {
   "cell_type": "markdown",
   "id": "410adf9c-45a1-43a6-8526-5fa6778e2730",
   "metadata": {},
   "source": [
    "# 01. Read File:\n",
    "----------------"
   ]
  },
  {
   "cell_type": "code",
   "execution_count": 8,
   "id": "24ad0f55-9574-4440-a973-b80f358b7969",
   "metadata": {},
   "outputs": [
    {
     "name": "stdout",
     "output_type": "stream",
     "text": [
      "Hi this is python File Handling\n",
      "\n"
     ]
    }
   ],
   "source": [
    "fileRead = open('test.txt', 'r')\n",
    "print(fileRead.readline())\n",
    "fileRead.close()"
   ]
  },
  {
   "cell_type": "code",
   "execution_count": 7,
   "id": "c33e56e9-2e88-4895-a2f7-cf8c2158761d",
   "metadata": {},
   "outputs": [
    {
     "name": "stdout",
     "output_type": "stream",
     "text": [
      "['Hi this is python File Handling\\n', 'Hi this is python File Handling\\n', 'Hi this is python File Handling\\n', 'Hi this is python File Handling'] <class 'list'>\n",
      "2 nd Line Para :  Hi this is python File Handling\n",
      "\n"
     ]
    }
   ],
   "source": [
    "fileRead = open('test.txt', 'r')\n",
    "listPara = fileRead.readlines()\n",
    "print(listPara, type(listPara))\n",
    "\n",
    "print('2 nd Line Para : ', listPara[1])\n",
    "fileRead.close()"
   ]
  },
  {
   "cell_type": "markdown",
   "id": "8f8781e1-e30c-41e4-81fc-74bcb48cc29e",
   "metadata": {},
   "source": [
    "# 02. File Write:\n",
    "-----------------"
   ]
  },
  {
   "cell_type": "code",
   "execution_count": 10,
   "id": "8f78fa6a-9281-478d-97ae-d45fca8c0ba6",
   "metadata": {},
   "outputs": [
    {
     "name": "stdout",
     "output_type": "stream",
     "text": [
      "Hi this is python File Handling\n",
      "\n",
      "----------------------------------------------------------\n",
      "----------------------------------------------------------\n",
      "Hi This is File Handling Write Method\n"
     ]
    }
   ],
   "source": [
    "fileRead = open('test.txt', 'r')\n",
    "print(fileRead.readline())\n",
    "fileRead.close()\n",
    "\n",
    "print('----------------------------------------------------------')\n",
    "\n",
    "fileWrite = open('test.txt', 'w')\n",
    "fileWrite.write('Hi This is File Handling Write Method')\n",
    "fileWrite.close()\n",
    "\n",
    "print('----------------------------------------------------------')\n",
    "\n",
    "fileRead = open('test.txt', 'r')\n",
    "print(fileRead.readline())\n",
    "fileRead.close()"
   ]
  },
  {
   "cell_type": "markdown",
   "id": "9fb5a9e8-5a40-431c-856b-0d1f1a719c57",
   "metadata": {},
   "source": [
    "# 03. File Append:\n",
    "------------------"
   ]
  },
  {
   "cell_type": "code",
   "execution_count": 11,
   "id": "f29364bc-2598-47f6-a5a0-39e1c383ceea",
   "metadata": {},
   "outputs": [
    {
     "name": "stdout",
     "output_type": "stream",
     "text": [
      "Hi This is File Handling Write Method\n",
      "----------------------------------------------------------\n",
      "----------------------------------------------------------\n",
      "Hi This is File Handling Write Method Hi This is File Handling Append Method\n"
     ]
    }
   ],
   "source": [
    "fileRead = open('test.txt', 'r')\n",
    "print(fileRead.readline())\n",
    "fileRead.close()\n",
    "\n",
    "print('----------------------------------------------------------')\n",
    "\n",
    "fileAppend = open('test.txt', 'a')\n",
    "fileAppend.write(' Hi This is File Handling Append Method')\n",
    "fileAppend.close()\n",
    "\n",
    "print('----------------------------------------------------------')\n",
    "\n",
    "fileRead = open('test.txt', 'r')\n",
    "print(fileRead.readline())\n",
    "fileRead.close()"
   ]
  },
  {
   "cell_type": "markdown",
   "id": "e4766269-8387-43ec-9247-323b77aff51c",
   "metadata": {},
   "source": [
    "# 04. File Delete:\n",
    "------------------"
   ]
  },
  {
   "cell_type": "code",
   "execution_count": 12,
   "id": "c08eee5e-89a3-4652-a4be-c160f623bb61",
   "metadata": {},
   "outputs": [],
   "source": [
    "import os"
   ]
  },
  {
   "cell_type": "code",
   "execution_count": 18,
   "id": "bc262dbf-e871-4e8f-9eaa-b200488d7898",
   "metadata": {},
   "outputs": [
    {
     "name": "stdout",
     "output_type": "stream",
     "text": [
      "test.txt  File is in your Folder!..\n",
      "test.txt  Deleted Successfully!..\n"
     ]
    }
   ],
   "source": [
    "fileName = 'test.txt'\n",
    "\n",
    "if os.path.exists(fileName):\n",
    "    print(fileName, ' File is in your Folder!..')\n",
    "    os.remove(fileName)\n",
    "    print(fileName, ' Deleted Successfully!..')\n",
    "\n",
    "else:\n",
    "    print(fileName, ' File is not in your Folder!..')"
   ]
  },
  {
   "cell_type": "code",
   "execution_count": null,
   "id": "b8cf9a09-c39b-4477-90ab-e0853a184ab4",
   "metadata": {},
   "outputs": [],
   "source": []
  }
 ],
 "metadata": {
  "kernelspec": {
   "display_name": "Python 3 (ipykernel)",
   "language": "python",
   "name": "python3"
  },
  "language_info": {
   "codemirror_mode": {
    "name": "ipython",
    "version": 3
   },
   "file_extension": ".py",
   "mimetype": "text/x-python",
   "name": "python",
   "nbconvert_exporter": "python",
   "pygments_lexer": "ipython3",
   "version": "3.13.2"
  }
 },
 "nbformat": 4,
 "nbformat_minor": 5
}
