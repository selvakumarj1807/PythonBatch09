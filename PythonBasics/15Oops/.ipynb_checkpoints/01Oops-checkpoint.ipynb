{
 "cells": [
  {
   "cell_type": "markdown",
   "id": "7c672ec8-267b-403a-ba12-0559831b8ba5",
   "metadata": {},
   "source": [
    "Python Object Oriented Programming Language:\n",
    "--------------------------------------------"
   ]
  },
  {
   "cell_type": "markdown",
   "id": "997d1513-26f1-4737-98d2-7766ba05cbeb",
   "metadata": {},
   "source": [
    "Class:\n",
    "------"
   ]
  },
  {
   "cell_type": "code",
   "execution_count": 1,
   "id": "64e9503d-e60c-4cb0-976d-525cc28f9038",
   "metadata": {},
   "outputs": [],
   "source": [
    "class Student:\n",
    "    name = 'Sara'\n",
    "    age = 22"
   ]
  },
  {
   "cell_type": "code",
   "execution_count": 3,
   "id": "dce04d70-b2f9-4f0a-af78-3dd842a6fe1d",
   "metadata": {},
   "outputs": [
    {
     "name": "stdout",
     "output_type": "stream",
     "text": [
      "Sara\n",
      "22\n"
     ]
    }
   ],
   "source": [
    "print(Student.name)\n",
    "print(Student.age)"
   ]
  },
  {
   "cell_type": "markdown",
   "id": "8107ea32-f9eb-4e0d-87d1-184d41afcbb0",
   "metadata": {},
   "source": [
    "Object:\n",
    "------"
   ]
  },
  {
   "cell_type": "code",
   "execution_count": 5,
   "id": "6474fe85-ef9c-4051-93b0-af0a54d434ab",
   "metadata": {},
   "outputs": [],
   "source": [
    "class Student:\n",
    "    name = 'name value'\n",
    "    age = 0"
   ]
  },
  {
   "cell_type": "code",
   "execution_count": 7,
   "id": "c1ce779a-7d8d-4c45-8159-22b26b0b736f",
   "metadata": {},
   "outputs": [
    {
     "name": "stdout",
     "output_type": "stream",
     "text": [
      "Sara\n",
      "22\n"
     ]
    }
   ],
   "source": [
    "# Object Creation\n",
    "\n",
    "student01 = Student()\n",
    "student01.name = 'Sara'\n",
    "student01.age = 22\n",
    "\n",
    "print(student01.name)\n",
    "\n",
    "print(student01.age)"
   ]
  },
  {
   "cell_type": "code",
   "execution_count": 8,
   "id": "521be537-9993-43f7-bbd6-628e61801508",
   "metadata": {},
   "outputs": [
    {
     "name": "stdout",
     "output_type": "stream",
     "text": [
      "Ram\n",
      "25\n"
     ]
    }
   ],
   "source": [
    "# Object Creation\n",
    "\n",
    "student02 = Student()\n",
    "student02.name = 'Ram'\n",
    "student02.age = 25\n",
    "\n",
    "print(student02.name)\n",
    "\n",
    "print(student02.age)"
   ]
  },
  {
   "cell_type": "markdown",
   "id": "0554ffc3-525b-4648-92fc-5660b8bb5a00",
   "metadata": {},
   "source": [
    "Class Functions:\n",
    "----------------"
   ]
  },
  {
   "cell_type": "code",
   "execution_count": 11,
   "id": "b217c6e7-efc0-4fd8-8724-d5bb825c5f4e",
   "metadata": {},
   "outputs": [],
   "source": [
    "class Student:\n",
    "    name = 'Sara'\n",
    "    age = 22\n",
    "\n",
    "    def display():\n",
    "        print(Student.name, ' your age is ', Student.age)"
   ]
  },
  {
   "cell_type": "code",
   "execution_count": 12,
   "id": "8f542383-a3ac-4a44-a64d-dee738e0e7b6",
   "metadata": {},
   "outputs": [
    {
     "name": "stdout",
     "output_type": "stream",
     "text": [
      "Sara  your age is  22\n"
     ]
    }
   ],
   "source": [
    "Student.display()"
   ]
  },
  {
   "cell_type": "markdown",
   "id": "6345f005-fc9a-4241-8e87-ac4bbd89b684",
   "metadata": {},
   "source": [
    "Class Functions with object:\n",
    "----------------------------"
   ]
  },
  {
   "cell_type": "code",
   "execution_count": 18,
   "id": "e2f4fb11-427c-4fe0-8d28-8faa077c6abf",
   "metadata": {},
   "outputs": [],
   "source": [
    "class Student:\n",
    "    name = 'Sara'\n",
    "    age = 22\n",
    "\n",
    "    def display(self):\n",
    "        print(self.name, ' your age is ', self.age)"
   ]
  },
  {
   "cell_type": "code",
   "execution_count": 19,
   "id": "8c2d732a-a32a-46b0-a7e5-1b2936dc9205",
   "metadata": {},
   "outputs": [
    {
     "name": "stdout",
     "output_type": "stream",
     "text": [
      "Dev  your age is  25\n"
     ]
    }
   ],
   "source": [
    "student01 = Student()\n",
    "student01.name = 'Dev'\n",
    "student01.age = 25\n",
    "\n",
    "student01.display()"
   ]
  },
  {
   "cell_type": "markdown",
   "id": "fa6b5019-cbfe-49a3-9b42-2c46b2cc40a4",
   "metadata": {},
   "source": [
    "# __init__ method:\n",
    "------------------\n",
    "\n",
    "Constructor method for value Initialization"
   ]
  },
  {
   "cell_type": "code",
   "execution_count": 26,
   "id": "14e7a11e-4ac7-4ffa-8af7-8a702d3d5ff4",
   "metadata": {},
   "outputs": [],
   "source": [
    "class Student:\n",
    "    def __init__(self, name, age):\n",
    "        print('Value Assign to the Variable using __init__ method!..')\n",
    "        self.name = name\n",
    "        self.age = age\n",
    "\n",
    "    def display(self):\n",
    "        print(self.name, ' your age is ', self.age)"
   ]
  },
  {
   "cell_type": "code",
   "execution_count": 27,
   "id": "bf28b48d-0cbd-4de3-9f70-a9ab45ec3e9a",
   "metadata": {},
   "outputs": [
    {
     "name": "stdout",
     "output_type": "stream",
     "text": [
      "Value Assign to the Variable using __init__ method!..\n",
      "Dev  your age is  24\n"
     ]
    }
   ],
   "source": [
    "student01 = Student('Dev', 24)\n",
    "\n",
    "student01.display()"
   ]
  },
  {
   "cell_type": "code",
   "execution_count": 28,
   "id": "6abb10d8-6300-4d40-bb2f-8f7cceaf8bbf",
   "metadata": {
    "scrolled": true
   },
   "outputs": [
    {
     "name": "stdout",
     "output_type": "stream",
     "text": [
      "Value Assign to the Variable using __init__ method!..\n",
      "Sam  your age is  26\n"
     ]
    }
   ],
   "source": [
    "student02 = Student('Sam', 26)\n",
    "\n",
    "student02.display()"
   ]
  },
  {
   "cell_type": "code",
   "execution_count": null,
   "id": "b9e3b24e-f1c3-4685-8aa9-d04df2ded5c2",
   "metadata": {},
   "outputs": [],
   "source": [
    "'''\n",
    "ToDay Work\n",
    "\n",
    "To write the python code for below output using Class, Object, Functions\n",
    "\n",
    "Call the Class Function\n",
    "\n",
    "student02 = Student('Sara', 90, 90, 90)\n",
    "\n",
    "student02.display()\n",
    "\n",
    "-------------------------------------------------------\n",
    "\n",
    "Output:\n",
    "-------\n",
    "\n",
    "Student Name: Sara\n",
    "mark 01: 90\n",
    "mark 02: 90\n",
    "mark 03: 90\n",
    "\n",
    "Total : 270\n",
    "Avrage: 90\n",
    "\n",
    "Grade: Sara have A Grade\n",
    "\n",
    "'''"
   ]
  }
 ],
 "metadata": {
  "kernelspec": {
   "display_name": "Python 3 (ipykernel)",
   "language": "python",
   "name": "python3"
  },
  "language_info": {
   "codemirror_mode": {
    "name": "ipython",
    "version": 3
   },
   "file_extension": ".py",
   "mimetype": "text/x-python",
   "name": "python",
   "nbconvert_exporter": "python",
   "pygments_lexer": "ipython3",
   "version": "3.13.2"
  }
 },
 "nbformat": 4,
 "nbformat_minor": 5
}
