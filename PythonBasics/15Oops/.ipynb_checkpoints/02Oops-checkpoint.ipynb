{
 "cells": [
  {
   "cell_type": "markdown",
   "id": "23da7fbc-0472-4f4a-976a-192a6c49feb4",
   "metadata": {},
   "source": [
    "Abstraction & Encapsulation\n",
    "---------------------------"
   ]
  },
  {
   "cell_type": "markdown",
   "id": "1b6bad8b-cf8c-4fa9-8b23-e11f3e3e267d",
   "metadata": {},
   "source": [
    "Library Management System:\n",
    "--------------------------"
   ]
  },
  {
   "cell_type": "code",
   "execution_count": 13,
   "id": "93a9afca-58f1-4f2a-aa02-547872888ad6",
   "metadata": {},
   "outputs": [],
   "source": [
    "# Library Class\n",
    "\n",
    "class Library:\n",
    "    def __init__(self, books):\n",
    "        self.books = books\n",
    "\n",
    "    def displayBooks(self):\n",
    "        for i in self.books:\n",
    "            print(i)\n",
    "\n",
    "    def borrowBook(self, book): \n",
    "        if book in self.books:\n",
    "            print(book, ' book Borrow Successfully!..')\n",
    "            self.books.remove(book)\n",
    "\n",
    "        else:\n",
    "            print(book, ' Not in your Library')\n",
    "       \n",
    "\n",
    "    def reciveBook(self, book):\n",
    "        print(book, ' book Recived Successfully')\n",
    "        self.books.append(book)"
   ]
  },
  {
   "cell_type": "code",
   "execution_count": 15,
   "id": "437438dc-1be3-4593-b9c0-d3629b87b96b",
   "metadata": {},
   "outputs": [
    {
     "name": "stdout",
     "output_type": "stream",
     "text": [
      "Library Management System : \n",
      "----------------------------\n",
      "\n",
      "\n",
      "1. Display Books\n",
      "2. Borrow Book\n",
      "3. Recive Book\n",
      "\n"
     ]
    },
    {
     "name": "stdin",
     "output_type": "stream",
     "text": [
      "Enter Your Choise (1/2/3):  1\n"
     ]
    },
    {
     "name": "stdout",
     "output_type": "stream",
     "text": [
      "C\n",
      "C++\n",
      "Java\n",
      "\n",
      "1. Display Books\n",
      "2. Borrow Book\n",
      "3. Recive Book\n",
      "\n"
     ]
    },
    {
     "name": "stdin",
     "output_type": "stream",
     "text": [
      "Enter Your Choise (1/2/3):  2\n",
      "Enter your Borrow Book Name :  Puthon\n"
     ]
    },
    {
     "name": "stdout",
     "output_type": "stream",
     "text": [
      "Puthon  Not in your Library\n",
      "\n",
      "1. Display Books\n",
      "2. Borrow Book\n",
      "3. Recive Book\n",
      "\n"
     ]
    },
    {
     "name": "stdin",
     "output_type": "stream",
     "text": [
      "Enter Your Choise (1/2/3):  1\n"
     ]
    },
    {
     "name": "stdout",
     "output_type": "stream",
     "text": [
      "C\n",
      "C++\n",
      "Java\n",
      "\n",
      "1. Display Books\n",
      "2. Borrow Book\n",
      "3. Recive Book\n",
      "\n"
     ]
    },
    {
     "name": "stdin",
     "output_type": "stream",
     "text": [
      "Enter Your Choise (1/2/3):  2\n",
      "Enter your Borrow Book Name :  Java\n"
     ]
    },
    {
     "name": "stdout",
     "output_type": "stream",
     "text": [
      "Java  book Borrow Successfully!..\n",
      "\n",
      "1. Display Books\n",
      "2. Borrow Book\n",
      "3. Recive Book\n",
      "\n"
     ]
    },
    {
     "name": "stdin",
     "output_type": "stream",
     "text": [
      "Enter Your Choise (1/2/3):  1\n"
     ]
    },
    {
     "name": "stdout",
     "output_type": "stream",
     "text": [
      "C\n",
      "C++\n",
      "\n",
      "1. Display Books\n",
      "2. Borrow Book\n",
      "3. Recive Book\n",
      "\n"
     ]
    },
    {
     "name": "stdin",
     "output_type": "stream",
     "text": [
      "Enter Your Choise (1/2/3):  3\n",
      "Enter your Recive Book Name :  Java\n"
     ]
    },
    {
     "name": "stdout",
     "output_type": "stream",
     "text": [
      "Java  book Recived Successfully\n",
      "\n",
      "1. Display Books\n",
      "2. Borrow Book\n",
      "3. Recive Book\n",
      "\n"
     ]
    },
    {
     "name": "stdin",
     "output_type": "stream",
     "text": [
      "Enter Your Choise (1/2/3):  1\n"
     ]
    },
    {
     "name": "stdout",
     "output_type": "stream",
     "text": [
      "C\n",
      "C++\n",
      "Java\n",
      "\n",
      "1. Display Books\n",
      "2. Borrow Book\n",
      "3. Recive Book\n",
      "\n"
     ]
    },
    {
     "name": "stdin",
     "output_type": "stream",
     "text": [
      "Enter Your Choise (1/2/3):  3\n",
      "Enter your Recive Book Name :  Python\n"
     ]
    },
    {
     "name": "stdout",
     "output_type": "stream",
     "text": [
      "Python  book Recived Successfully\n",
      "\n",
      "1. Display Books\n",
      "2. Borrow Book\n",
      "3. Recive Book\n",
      "\n"
     ]
    },
    {
     "name": "stdin",
     "output_type": "stream",
     "text": [
      "Enter Your Choise (1/2/3):  1\n"
     ]
    },
    {
     "name": "stdout",
     "output_type": "stream",
     "text": [
      "C\n",
      "C++\n",
      "Java\n",
      "Python\n",
      "\n",
      "1. Display Books\n",
      "2. Borrow Book\n",
      "3. Recive Book\n",
      "\n"
     ]
    },
    {
     "name": "stdin",
     "output_type": "stream",
     "text": [
      "Enter Your Choise (1/2/3):  4\n"
     ]
    }
   ],
   "source": [
    "# Class Use Object 01\n",
    "\n",
    "print('Library Management System : ')\n",
    "print('----------------------------')\n",
    "print('')\n",
    "\n",
    "books01 = ['C', 'C++', 'Java']\n",
    "\n",
    "bookOject01 = Library(books01)\n",
    "\n",
    "msg = '''\n",
    "1. Display Books\n",
    "2. Borrow Book\n",
    "3. Recive Book\n",
    "'''\n",
    "\n",
    "while True:\n",
    "    print(msg)\n",
    "\n",
    "    ch = int(input('Enter Your Choise (1/2/3): '))\n",
    "\n",
    "    if ch == 1:\n",
    "        bookOject01.displayBooks()\n",
    "        \n",
    "    elif ch == 2:\n",
    "        book = input('Enter your Borrow Book Name : ')\n",
    "\n",
    "        bookOject01.borrowBook(book)\n",
    "\n",
    "    elif ch == 3:\n",
    "        book = input('Enter your Recive Book Name : ')\n",
    "\n",
    "        bookOject01.reciveBook(book)\n",
    "\n",
    "    else:\n",
    "        break"
   ]
  },
  {
   "cell_type": "code",
   "execution_count": null,
   "id": "59be7b77-ee58-4e5c-b3ce-0160a554731e",
   "metadata": {},
   "outputs": [
    {
     "name": "stdout",
     "output_type": "stream",
     "text": [
      "Library Management System : \n",
      "----------------------------\n",
      "\n",
      "\n",
      "1. Display Books\n",
      "2. Borrow Book\n",
      "3. Recive Book\n",
      "\n"
     ]
    },
    {
     "name": "stdin",
     "output_type": "stream",
     "text": [
      "Enter Your Choise (1/2/3):  1\n"
     ]
    },
    {
     "name": "stdout",
     "output_type": "stream",
     "text": [
      "Tamil\n",
      "English\n",
      "Mathematics\n",
      "\n",
      "1. Display Books\n",
      "2. Borrow Book\n",
      "3. Recive Book\n",
      "\n"
     ]
    },
    {
     "name": "stdin",
     "output_type": "stream",
     "text": [
      "Enter Your Choise (1/2/3):  2\n",
      "Enter your Borrow Book Name :  Tamil\n"
     ]
    },
    {
     "name": "stdout",
     "output_type": "stream",
     "text": [
      "Tamil  book Borrow Successfully!..\n",
      "\n",
      "1. Display Books\n",
      "2. Borrow Book\n",
      "3. Recive Book\n",
      "\n"
     ]
    },
    {
     "name": "stdin",
     "output_type": "stream",
     "text": [
      "Enter Your Choise (1/2/3):  1\n"
     ]
    },
    {
     "name": "stdout",
     "output_type": "stream",
     "text": [
      "English\n",
      "Mathematics\n",
      "\n",
      "1. Display Books\n",
      "2. Borrow Book\n",
      "3. Recive Book\n",
      "\n"
     ]
    },
    {
     "name": "stdin",
     "output_type": "stream",
     "text": [
      "Enter Your Choise (1/2/3):  3\n",
      "Enter your Recive Book Name :  Tamil\n"
     ]
    },
    {
     "name": "stdout",
     "output_type": "stream",
     "text": [
      "Tamil  book Recived Successfully\n",
      "\n",
      "1. Display Books\n",
      "2. Borrow Book\n",
      "3. Recive Book\n",
      "\n"
     ]
    },
    {
     "name": "stdin",
     "output_type": "stream",
     "text": [
      "Enter Your Choise (1/2/3):  1\n"
     ]
    },
    {
     "name": "stdout",
     "output_type": "stream",
     "text": [
      "English\n",
      "Mathematics\n",
      "Tamil\n",
      "\n",
      "1. Display Books\n",
      "2. Borrow Book\n",
      "3. Recive Book\n",
      "\n"
     ]
    },
    {
     "name": "stdin",
     "output_type": "stream",
     "text": [
      "Enter Your Choise (1/2/3):  3\n",
      "Enter your Recive Book Name :  Sciense\n"
     ]
    },
    {
     "name": "stdout",
     "output_type": "stream",
     "text": [
      "Sciense  book Recived Successfully\n",
      "\n",
      "1. Display Books\n",
      "2. Borrow Book\n",
      "3. Recive Book\n",
      "\n"
     ]
    },
    {
     "name": "stdin",
     "output_type": "stream",
     "text": [
      "Enter Your Choise (1/2/3):  1\n"
     ]
    },
    {
     "name": "stdout",
     "output_type": "stream",
     "text": [
      "English\n",
      "Mathematics\n",
      "Tamil\n",
      "Sciense\n",
      "\n",
      "1. Display Books\n",
      "2. Borrow Book\n",
      "3. Recive Book\n",
      "\n"
     ]
    }
   ],
   "source": [
    "# Class Use Object 02\n",
    "\n",
    "print('Library Management System : ')\n",
    "print('----------------------------')\n",
    "print('')\n",
    "\n",
    "books02 = ['Tamil', 'English', 'Mathematics']\n",
    "\n",
    "bookOject02 = Library(books02)\n",
    "\n",
    "msg = '''\n",
    "1. Display Books\n",
    "2. Borrow Book\n",
    "3. Recive Book\n",
    "'''\n",
    "\n",
    "while True:\n",
    "    print(msg)\n",
    "\n",
    "    ch = int(input('Enter Your Choise (1/2/3): '))\n",
    "\n",
    "    if ch == 1:\n",
    "        bookOject02.displayBooks()\n",
    "        \n",
    "    elif ch == 2:\n",
    "        book = input('Enter your Borrow Book Name : ')\n",
    "\n",
    "        bookOject02.borrowBook(book)\n",
    "\n",
    "    elif ch == 3:\n",
    "        book = input('Enter your Recive Book Name : ')\n",
    "\n",
    "        bookOject02.reciveBook(book)\n",
    "\n",
    "    else:\n",
    "        break"
   ]
  },
  {
   "cell_type": "code",
   "execution_count": null,
   "id": "4c173f0f-db2a-4a5a-b4a7-cd3eeee89f35",
   "metadata": {},
   "outputs": [],
   "source": []
  }
 ],
 "metadata": {
  "kernelspec": {
   "display_name": "Python 3 (ipykernel)",
   "language": "python",
   "name": "python3"
  },
  "language_info": {
   "codemirror_mode": {
    "name": "ipython",
    "version": 3
   },
   "file_extension": ".py",
   "mimetype": "text/x-python",
   "name": "python",
   "nbconvert_exporter": "python",
   "pygments_lexer": "ipython3",
   "version": "3.13.2"
  }
 },
 "nbformat": 4,
 "nbformat_minor": 5
}
