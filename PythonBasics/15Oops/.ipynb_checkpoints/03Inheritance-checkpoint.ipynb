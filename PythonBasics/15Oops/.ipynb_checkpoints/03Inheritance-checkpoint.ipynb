{
 "cells": [
  {
   "cell_type": "markdown",
   "id": "fffa0faf-26cd-429b-a4ef-e6db550e8ef8",
   "metadata": {},
   "source": [
    "Python Inheritance:\n",
    "-------------------"
   ]
  },
  {
   "cell_type": "markdown",
   "id": "be0a5815-bbf3-4ffc-9e5d-f9de453a7bac",
   "metadata": {},
   "source": [
    "# 01. Single Inheritance:\n",
    "-------------------------"
   ]
  },
  {
   "cell_type": "code",
   "execution_count": 7,
   "id": "5ffc17c2-f17b-446d-80c2-f16ed9cfbd71",
   "metadata": {},
   "outputs": [],
   "source": [
    "class Father:\n",
    "    fatherName = 'Larry'\n",
    "    def play(self):\n",
    "        print('Father have Skill with playing Cricket!..')\n",
    "\n",
    "class Son(Father):\n",
    "    def draw(self):\n",
    "        print('Son have Skill with Drawing!..')"
   ]
  },
  {
   "cell_type": "code",
   "execution_count": 8,
   "id": "b76d9b77-852b-4304-93d4-dbb3bcbc21ff",
   "metadata": {},
   "outputs": [
    {
     "name": "stdout",
     "output_type": "stream",
     "text": [
      "Son have Skill with Drawing!..\n",
      "Father Name is :  Larry\n",
      "Father have Skill with playing Cricket!..\n"
     ]
    }
   ],
   "source": [
    "object01 = Son()\n",
    "\n",
    "object01.draw()\n",
    "\n",
    "print('Father Name is : ', object01.fatherName)\n",
    "object01.play()"
   ]
  },
  {
   "cell_type": "markdown",
   "id": "e73111b1-c9cc-4780-a98c-10a79d08a7a7",
   "metadata": {},
   "source": [
    "# 02. Multiple Inhertance:\n",
    "--------------------------"
   ]
  },
  {
   "cell_type": "code",
   "execution_count": 9,
   "id": "03d0777f-284f-4ba6-a0a6-81e642ba0d56",
   "metadata": {},
   "outputs": [],
   "source": [
    "class Father:\n",
    "    fatherName = 'Larry'\n",
    "    def play(self):\n",
    "        print('Father have Skill with playing Cricket!..')\n",
    "\n",
    "class Mother:\n",
    "    motherName = 'Sara'\n",
    "    def cook(self):\n",
    "        print('Mother have Skill with Cooking!..')\n",
    "\n",
    "class Son(Father, Mother):\n",
    "    def draw(self):\n",
    "        print('Son have Skill with Drawing!..')"
   ]
  },
  {
   "cell_type": "code",
   "execution_count": 11,
   "id": "e3ba5dcf-838a-4a46-82ed-5ebc9904f17d",
   "metadata": {},
   "outputs": [
    {
     "name": "stdout",
     "output_type": "stream",
     "text": [
      "Son have Skill with Drawing!..\n",
      "Father Name is :  Larry\n",
      "Father have Skill with playing Cricket!..\n",
      "Mother Name is :  Sara\n",
      "Mother have Skill with Cooking!..\n"
     ]
    }
   ],
   "source": [
    "object01 = Son()\n",
    "\n",
    "object01.draw()\n",
    "\n",
    "print('Father Name is : ', object01.fatherName)\n",
    "object01.play()\n",
    "\n",
    "print('Mother Name is : ', object01.motherName)\n",
    "object01.cook()"
   ]
  },
  {
   "cell_type": "markdown",
   "id": "18843c22-7b81-4192-bfe4-ba69735e7918",
   "metadata": {},
   "source": [
    "# 03. Multilevel Inheritance:\n",
    "-----------------------------"
   ]
  },
  {
   "cell_type": "code",
   "execution_count": 13,
   "id": "37b00421-7e85-4b2d-bb7a-3b7ba8a629ab",
   "metadata": {},
   "outputs": [],
   "source": [
    "class Father:\n",
    "    fatherName = 'Larry'\n",
    "    def play(self):\n",
    "        print('Father have Skill with playing Cricket!..')\n",
    "\n",
    "class Mother(Father):\n",
    "    motherName = 'Sara'\n",
    "    def cook(self):\n",
    "        print('Mother have Skill with Cooking!..')\n",
    "\n",
    "class Son(Mother):\n",
    "    def draw(self):\n",
    "        print('Son have Skill with Drawing!..')"
   ]
  },
  {
   "cell_type": "code",
   "execution_count": 14,
   "id": "3ef2d9ff-2e22-49c3-8975-780055a370e7",
   "metadata": {},
   "outputs": [
    {
     "name": "stdout",
     "output_type": "stream",
     "text": [
      "Son have Skill with Drawing!..\n",
      "Father Name is :  Larry\n",
      "Father have Skill with playing Cricket!..\n",
      "Mother Name is :  Sara\n",
      "Mother have Skill with Cooking!..\n"
     ]
    }
   ],
   "source": [
    "object01 = Son()\n",
    "\n",
    "object01.draw()\n",
    "\n",
    "print('Father Name is : ', object01.fatherName)\n",
    "object01.play()\n",
    "\n",
    "print('Mother Name is : ', object01.motherName)\n",
    "object01.cook()"
   ]
  },
  {
   "cell_type": "code",
   "execution_count": null,
   "id": "3d8bdc03-b739-4df7-ae86-8ae4ed3c268f",
   "metadata": {},
   "outputs": [],
   "source": [
    "'''\n",
    "Tomorrow Test:\n",
    "--------------\n",
    "\n",
    "1. Difference Between - List, Tuple, Set, Dictionary\n",
    "\n",
    "2. Write the Examples of 4 Types Functions\n",
    "        1. No Return Type with out Argument\n",
    "        2. No Return Type with Argument\n",
    "        3. Return Type with out Argument\n",
    "        4. Return Type with Argument\n",
    "\n",
    "3. Call the Variables, Functions Using Class & Objects\n",
    "'''"
   ]
  },
  {
   "cell_type": "code",
   "execution_count": null,
   "id": "a573c0ae-5578-48bc-b363-7fd1113d65fd",
   "metadata": {},
   "outputs": [],
   "source": [
    "'''\n",
    "ToDay Work\n",
    "----------\n",
    "To Write the Python Code for Below Output. Using Oops Concept\n",
    "\n",
    "ATM Project:\n",
    "------------\n",
    "\n",
    "Enter your pin number: 1807\n",
    "\n",
    "1. Balance Enquiry\n",
    "2. Withdram amount\n",
    "3. Deposite amount\n",
    "\n",
    "1. Balance Enquiry\n",
    "\n",
    "1807 - Rs. 10000\n",
    "\n",
    "1. Balance Enquiry\n",
    "2. Withdram amount\n",
    "3. Deposite amount\n",
    "\n",
    "2. Withdram amount\n",
    "\n",
    "Enter your Withdram amount : 4000\n",
    "\n",
    "Get your Amount Rs. 4000 Successfuly!..\n",
    "\n",
    "1. Balance Enquiry\n",
    "2. Withdram amount\n",
    "3. Deposite amount\n",
    "\n",
    "1. Balance Enquiry\n",
    "\n",
    "1807 - Rs. 6000\n",
    "\n",
    "1. Balance Enquiry\n",
    "2. Withdram amount\n",
    "3. Deposite amount\n",
    "\n",
    "3. Deposite amount\n",
    "\n",
    "Enter your Deposite amount : 2000\n",
    "\n",
    "2000 Deposite Successfully!..\n",
    "\n",
    "1. Balance Enquiry\n",
    "2. Withdram amount\n",
    "3. Deposite amount\n",
    "\n",
    "1. Balance Enquiry\n",
    "\n",
    "1807 - Rs. 8000\n",
    "\n",
    "1. Balance Enquiry\n",
    "2. Withdram amount\n",
    "3. Deposite amount\n",
    "\n",
    "4\n",
    "\n",
    "Thank you Come Again with Valid Credential!..\n",
    "'''"
   ]
  }
 ],
 "metadata": {
  "kernelspec": {
   "display_name": "Python 3 (ipykernel)",
   "language": "python",
   "name": "python3"
  },
  "language_info": {
   "codemirror_mode": {
    "name": "ipython",
    "version": 3
   },
   "file_extension": ".py",
   "mimetype": "text/x-python",
   "name": "python",
   "nbconvert_exporter": "python",
   "pygments_lexer": "ipython3",
   "version": "3.13.2"
  }
 },
 "nbformat": 4,
 "nbformat_minor": 5
}
